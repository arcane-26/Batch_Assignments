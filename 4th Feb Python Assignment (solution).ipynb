{
 "cells": [
  {
   "cell_type": "code",
   "execution_count": null,
   "id": "8568c82a",
   "metadata": {},
   "outputs": [],
   "source": []
  },
  {
   "cell_type": "markdown",
   "id": "1eb43a96",
   "metadata": {},
   "source": [
    "# QUESTION 1 (solution)"
   ]
  },
  {
   "cell_type": "code",
   "execution_count": null,
   "id": "f17185f2",
   "metadata": {},
   "outputs": [],
   "source": []
  },
  {
   "cell_type": "code",
   "execution_count": null,
   "id": "41fb8a0b",
   "metadata": {},
   "outputs": [],
   "source": [
    "# we can sort the list on the basis of integers by using sort fuction and we will set the key parameter of sort function as\n",
    "# lambda function"
   ]
  },
  {
   "cell_type": "code",
   "execution_count": 1,
   "id": "8cd9f61d",
   "metadata": {},
   "outputs": [],
   "source": [
    "l=[('Sachin Tendulkar',34357),('Ricky Pointing',27483),('Jack Kallis',25534),('Virat Kohli',24936)]"
   ]
  },
  {
   "cell_type": "code",
   "execution_count": 18,
   "id": "289598ab",
   "metadata": {},
   "outputs": [],
   "source": [
    "l.sort(key=lambda l1:l1[1])"
   ]
  },
  {
   "cell_type": "code",
   "execution_count": 19,
   "id": "9b3582cd",
   "metadata": {},
   "outputs": [
    {
     "name": "stdout",
     "output_type": "stream",
     "text": [
      "[('Virat Kohli', 24936), ('Jack Kallis', 25534), ('Ricky Pointing', 27483), ('Sachin Tendulkar', 34357)]\n"
     ]
    }
   ],
   "source": [
    "print(l)"
   ]
  },
  {
   "cell_type": "code",
   "execution_count": null,
   "id": "6df484dc",
   "metadata": {},
   "outputs": [],
   "source": []
  },
  {
   "cell_type": "code",
   "execution_count": null,
   "id": "5e89d43e",
   "metadata": {},
   "outputs": [],
   "source": []
  },
  {
   "cell_type": "markdown",
   "id": "9743455f",
   "metadata": {},
   "source": [
    "# QUESTION 2 (solution)"
   ]
  },
  {
   "cell_type": "code",
   "execution_count": 22,
   "id": "47f59d1a",
   "metadata": {},
   "outputs": [],
   "source": [
    "d=[1,2,3,4,5,6,7,8,9,10]"
   ]
  },
  {
   "cell_type": "code",
   "execution_count": 24,
   "id": "b2b94014",
   "metadata": {},
   "outputs": [],
   "source": [
    "squared=list(map(lambda x:x**2,d))"
   ]
  },
  {
   "cell_type": "code",
   "execution_count": 25,
   "id": "78a83154",
   "metadata": {},
   "outputs": [
    {
     "data": {
      "text/plain": [
       "[1, 4, 9, 16, 25, 36, 49, 64, 81, 100]"
      ]
     },
     "execution_count": 25,
     "metadata": {},
     "output_type": "execute_result"
    }
   ],
   "source": [
    "squared"
   ]
  },
  {
   "cell_type": "code",
   "execution_count": null,
   "id": "16f0e62e",
   "metadata": {},
   "outputs": [],
   "source": []
  },
  {
   "cell_type": "code",
   "execution_count": null,
   "id": "25a12804",
   "metadata": {},
   "outputs": [],
   "source": []
  },
  {
   "cell_type": "code",
   "execution_count": null,
   "id": "1023c9c3",
   "metadata": {},
   "outputs": [],
   "source": []
  },
  {
   "cell_type": "markdown",
   "id": "9a08a232",
   "metadata": {},
   "source": [
    "# QUESTION 3 (solution)"
   ]
  },
  {
   "cell_type": "code",
   "execution_count": 27,
   "id": "7d3ff474",
   "metadata": {},
   "outputs": [],
   "source": [
    "given=[1,2,3,4,5,6,7,8,9,10]"
   ]
  },
  {
   "cell_type": "code",
   "execution_count": 28,
   "id": "f2390328",
   "metadata": {},
   "outputs": [],
   "source": [
    "expected=tuple(map(lambda x:str(x),given))"
   ]
  },
  {
   "cell_type": "code",
   "execution_count": 29,
   "id": "51619b92",
   "metadata": {},
   "outputs": [
    {
     "data": {
      "text/plain": [
       "('1', '2', '3', '4', '5', '6', '7', '8', '9', '10')"
      ]
     },
     "execution_count": 29,
     "metadata": {},
     "output_type": "execute_result"
    }
   ],
   "source": [
    "expected"
   ]
  },
  {
   "cell_type": "code",
   "execution_count": null,
   "id": "7900f71f",
   "metadata": {},
   "outputs": [],
   "source": []
  },
  {
   "cell_type": "code",
   "execution_count": null,
   "id": "0e45c672",
   "metadata": {},
   "outputs": [],
   "source": []
  },
  {
   "cell_type": "markdown",
   "id": "083ed395",
   "metadata": {},
   "source": [
    "# QUESTION 4 (solution)"
   ]
  },
  {
   "cell_type": "code",
   "execution_count": 36,
   "id": "e8029caa",
   "metadata": {},
   "outputs": [],
   "source": [
    "from functools import reduce"
   ]
  },
  {
   "cell_type": "code",
   "execution_count": 37,
   "id": "ab4eeabd",
   "metadata": {},
   "outputs": [],
   "source": [
    "nums=[i for i in range(1,26)]"
   ]
  },
  {
   "cell_type": "code",
   "execution_count": 39,
   "id": "87143a30",
   "metadata": {},
   "outputs": [],
   "source": [
    "result=reduce(lambda a,b:a*b,nums)"
   ]
  },
  {
   "cell_type": "code",
   "execution_count": 40,
   "id": "f7a71c75",
   "metadata": {},
   "outputs": [
    {
     "data": {
      "text/plain": [
       "15511210043330985984000000"
      ]
     },
     "execution_count": 40,
     "metadata": {},
     "output_type": "execute_result"
    }
   ],
   "source": [
    "result"
   ]
  },
  {
   "cell_type": "code",
   "execution_count": null,
   "id": "ebf17240",
   "metadata": {},
   "outputs": [],
   "source": []
  },
  {
   "cell_type": "code",
   "execution_count": null,
   "id": "2a771ea6",
   "metadata": {},
   "outputs": [],
   "source": []
  },
  {
   "cell_type": "code",
   "execution_count": null,
   "id": "000f2231",
   "metadata": {},
   "outputs": [],
   "source": []
  },
  {
   "cell_type": "code",
   "execution_count": null,
   "id": "5e11e646",
   "metadata": {},
   "outputs": [],
   "source": []
  },
  {
   "cell_type": "markdown",
   "id": "91999597",
   "metadata": {},
   "source": [
    "# QUESTION 5 (solution)"
   ]
  },
  {
   "cell_type": "code",
   "execution_count": 42,
   "id": "ac9503ae",
   "metadata": {},
   "outputs": [],
   "source": [
    "n=[2,3,6,9,27,60,90,120,55,46]"
   ]
  },
  {
   "cell_type": "code",
   "execution_count": 44,
   "id": "f5c655f1",
   "metadata": {},
   "outputs": [],
   "source": [
    "filtered_nums=list(filter(lambda a: a%2==0 and a%3==0,n))"
   ]
  },
  {
   "cell_type": "code",
   "execution_count": 45,
   "id": "f7513af6",
   "metadata": {},
   "outputs": [
    {
     "data": {
      "text/plain": [
       "[6, 60, 90, 120]"
      ]
     },
     "execution_count": 45,
     "metadata": {},
     "output_type": "execute_result"
    }
   ],
   "source": [
    "filtered_nums"
   ]
  },
  {
   "cell_type": "code",
   "execution_count": null,
   "id": "11901115",
   "metadata": {},
   "outputs": [],
   "source": []
  },
  {
   "cell_type": "code",
   "execution_count": null,
   "id": "09e321ea",
   "metadata": {},
   "outputs": [],
   "source": []
  },
  {
   "cell_type": "code",
   "execution_count": null,
   "id": "93f89394",
   "metadata": {},
   "outputs": [],
   "source": []
  },
  {
   "cell_type": "markdown",
   "id": "c3133021",
   "metadata": {},
   "source": [
    "# QUESTION 6 (solution)"
   ]
  },
  {
   "cell_type": "code",
   "execution_count": 47,
   "id": "c2710e82",
   "metadata": {},
   "outputs": [],
   "source": [
    "s=['python','php','aba','radar','level']"
   ]
  },
  {
   "cell_type": "code",
   "execution_count": 49,
   "id": "56bba7eb",
   "metadata": {},
   "outputs": [],
   "source": [
    "palindrome_s=list(filter(lambda x: x==x[::-1],s))"
   ]
  },
  {
   "cell_type": "code",
   "execution_count": 50,
   "id": "93d1acaf",
   "metadata": {},
   "outputs": [
    {
     "data": {
      "text/plain": [
       "['php', 'aba', 'radar', 'level']"
      ]
     },
     "execution_count": 50,
     "metadata": {},
     "output_type": "execute_result"
    }
   ],
   "source": [
    "palindrome_s"
   ]
  },
  {
   "cell_type": "code",
   "execution_count": null,
   "id": "a2c29ad6",
   "metadata": {},
   "outputs": [],
   "source": []
  },
  {
   "cell_type": "code",
   "execution_count": null,
   "id": "37df3474",
   "metadata": {},
   "outputs": [],
   "source": []
  },
  {
   "cell_type": "code",
   "execution_count": null,
   "id": "69b64c0d",
   "metadata": {},
   "outputs": [],
   "source": []
  }
 ],
 "metadata": {
  "kernelspec": {
   "display_name": "Python 3 (ipykernel)",
   "language": "python",
   "name": "python3"
  },
  "language_info": {
   "codemirror_mode": {
    "name": "ipython",
    "version": 3
   },
   "file_extension": ".py",
   "mimetype": "text/x-python",
   "name": "python",
   "nbconvert_exporter": "python",
   "pygments_lexer": "ipython3",
   "version": "3.8.10"
  }
 },
 "nbformat": 4,
 "nbformat_minor": 5
}
