{
 "cells": [
  {
   "cell_type": "markdown",
   "id": "3f32185d",
   "metadata": {},
   "source": [
    "# QUESTION 1 (SOLUTION)"
   ]
  },
  {
   "cell_type": "markdown",
   "id": "ee03d5b6",
   "metadata": {},
   "source": [
    "A database is a organised collection of data that can be accessed, manage and updated. It is used to store wide variety of informations.Databases are essential component of mordern information system and they are used in a wide range of applications, from e-commerce websites to inventory management systems to social media platforms.\n",
    "\n",
    "There are two types of databases \n",
    "* SQL\n",
    "* NoSQL (Not Only SQL)\n",
    "\n",
    "Sql databases uses tables to store structured data whereas NoSQL used to store unstructured data. some of the sql databases are mysql, mssql, Postgress, Oracle database\n",
    "For Nosql Mongodb is the most popular database used.\n",
    "\n",
    "Sql is a relational database where various tables are related to each other whereas No sql databases are not relational"
   ]
  },
  {
   "cell_type": "code",
   "execution_count": null,
   "id": "db00b4cf",
   "metadata": {},
   "outputs": [],
   "source": []
  },
  {
   "cell_type": "code",
   "execution_count": null,
   "id": "78cc0d6a",
   "metadata": {},
   "outputs": [],
   "source": []
  },
  {
   "cell_type": "code",
   "execution_count": null,
   "id": "061ab787",
   "metadata": {},
   "outputs": [],
   "source": []
  },
  {
   "cell_type": "markdown",
   "id": "c0db2b7d",
   "metadata": {},
   "source": [
    "# QUESTION 2 (SOLUTION)"
   ]
  },
  {
   "cell_type": "markdown",
   "id": "063ed91c",
   "metadata": {},
   "source": [
    "DDL stands for Data Defination Language is the portion of sql which drop,alter,create,truncate the database objects. These sql commands of DDL use to define the schema of the database, it simply deals with schema of the database.\n",
    "\n",
    "CREATE is the keyword used to create a new databases or a Table\n",
    "ex- 'CREATE DATABASE IF NOT EXIST new_database'\n",
    "\n",
    "DROP is the keyword used to delete a existing database or Table\n",
    "ex - 'DROP DATABASE new_database'\n",
    "\n",
    "ALTER is the keyword used to make changes in the table of a database\n",
    "ex - 'ALTER TABLE table_name ADD column_name datatype'\n",
    "\n",
    "TRUNCATE is the keyword used to erase the data from the datebase or tabel\n",
    "ex - 'TRUNCATE TABLE table_name'"
   ]
  },
  {
   "cell_type": "code",
   "execution_count": null,
   "id": "34914a0f",
   "metadata": {},
   "outputs": [],
   "source": []
  },
  {
   "cell_type": "code",
   "execution_count": null,
   "id": "6cd68704",
   "metadata": {},
   "outputs": [],
   "source": []
  },
  {
   "cell_type": "code",
   "execution_count": null,
   "id": "dcab66ef",
   "metadata": {},
   "outputs": [],
   "source": []
  },
  {
   "cell_type": "markdown",
   "id": "bbd90426",
   "metadata": {},
   "source": [
    "# QUESTION 3 (SOLUTION)"
   ]
  },
  {
   "cell_type": "markdown",
   "id": "e1d15b2c",
   "metadata": {},
   "source": [
    "DML stands for Data Manupulation Language is a portion of sql which update,delete,Insert delete database objects. It is basically used to modify the database\n",
    "\n",
    "UPDATE is keyword used to update existing data of the table\n",
    "ex-'UPDATE table_name'\n",
    "\n",
    "DELETE is the keyword used to delete records from the database table\n",
    "ex-'DELETE FROM table_name'\n",
    "\n",
    "INSERT is keyword used to insert data into to table\n",
    "ex-'INSERT INTO emps (emp_id , emp_name , emp_salary)'"
   ]
  },
  {
   "cell_type": "code",
   "execution_count": null,
   "id": "2be78b30",
   "metadata": {},
   "outputs": [],
   "source": []
  },
  {
   "cell_type": "code",
   "execution_count": null,
   "id": "11fca173",
   "metadata": {},
   "outputs": [],
   "source": []
  },
  {
   "cell_type": "code",
   "execution_count": null,
   "id": "6d543b4f",
   "metadata": {},
   "outputs": [],
   "source": []
  },
  {
   "cell_type": "code",
   "execution_count": null,
   "id": "b75d996c",
   "metadata": {},
   "outputs": [],
   "source": []
  },
  {
   "cell_type": "markdown",
   "id": "c8361af0",
   "metadata": {},
   "source": [
    "# QUESTION 4 (SOLUTION)"
   ]
  },
  {
   "cell_type": "markdown",
   "id": "f82eef55",
   "metadata": {},
   "source": [
    "DQL stands for Data Query Language is a portion of the sql which is used to perform queries on the data SELECT keyword is used to retrieve the data form the database\n",
    "ex-'SELECT employee_id , last_name , salary'"
   ]
  },
  {
   "cell_type": "code",
   "execution_count": null,
   "id": "d0dac71c",
   "metadata": {},
   "outputs": [],
   "source": []
  },
  {
   "cell_type": "code",
   "execution_count": null,
   "id": "da9e9611",
   "metadata": {},
   "outputs": [],
   "source": []
  },
  {
   "cell_type": "code",
   "execution_count": null,
   "id": "a07f90da",
   "metadata": {},
   "outputs": [],
   "source": []
  },
  {
   "cell_type": "markdown",
   "id": "20d1d500",
   "metadata": {},
   "source": [
    "# QUESTION 5 (SOLUTION)"
   ]
  },
  {
   "cell_type": "markdown",
   "id": "ccf227e9",
   "metadata": {},
   "source": [
    "PRIMARY KEY is assigned to that column of the table which dosen't contain repeated and null values.\n",
    "\n",
    "FOREIGN KEY is assigned to that coloum to the table the plays a role of PRIMARY KEY in another table. The main use of foreign key is establish relation between tables\n",
    "\n"
   ]
  },
  {
   "cell_type": "code",
   "execution_count": null,
   "id": "173865dc",
   "metadata": {},
   "outputs": [],
   "source": []
  },
  {
   "cell_type": "code",
   "execution_count": null,
   "id": "080a0a8b",
   "metadata": {},
   "outputs": [],
   "source": []
  },
  {
   "cell_type": "code",
   "execution_count": null,
   "id": "9d00a8ab",
   "metadata": {},
   "outputs": [],
   "source": []
  },
  {
   "cell_type": "markdown",
   "id": "ad15cb34",
   "metadata": {},
   "source": [
    "# QUESTION 6 (SOLUTION)"
   ]
  },
  {
   "cell_type": "code",
   "execution_count": null,
   "id": "0878747f",
   "metadata": {},
   "outputs": [],
   "source": [
    "import mysql.connector\n",
    "\n",
    "a=mysql.connector.connect(\n",
    "    host='localhost',\n",
    "    user='abc',\n",
    "    password='pasword'\n",
    ")\n",
    "\n",
    "mycursor=a.cursor()\n",
    "mycursor.execute('CREATE DATABASE IF NOT EXISTS test_database')\n",
    "a.close()\n"
   ]
  },
  {
   "cell_type": "markdown",
   "id": "08d7075b",
   "metadata": {},
   "source": [
    "cursor is an object that is used to make the connection for executing SQL queries. It acts as middleware between SQL database connection and SQL query. It is created after giving connection to SQL database.\n",
    "\n",
    "execute method is used to send the query to the databse"
   ]
  },
  {
   "cell_type": "code",
   "execution_count": null,
   "id": "d49bc9f5",
   "metadata": {},
   "outputs": [],
   "source": []
  },
  {
   "cell_type": "code",
   "execution_count": null,
   "id": "af120f59",
   "metadata": {},
   "outputs": [],
   "source": []
  },
  {
   "cell_type": "markdown",
   "id": "39b7502c",
   "metadata": {},
   "source": [
    "# QUESTION 7 (SOLUTION)"
   ]
  },
  {
   "cell_type": "markdown",
   "id": "a9ac79fa",
   "metadata": {},
   "source": [
    "1. From\n",
    "2. where\n",
    "3. group by\n",
    "4. having\n",
    "5. select\n",
    "6. order by\n",
    "7. limit"
   ]
  },
  {
   "cell_type": "code",
   "execution_count": null,
   "id": "d6e3facd",
   "metadata": {},
   "outputs": [],
   "source": []
  },
  {
   "cell_type": "code",
   "execution_count": null,
   "id": "f2ab3eea",
   "metadata": {},
   "outputs": [],
   "source": []
  },
  {
   "cell_type": "code",
   "execution_count": null,
   "id": "e0d7e1ad",
   "metadata": {},
   "outputs": [],
   "source": []
  },
  {
   "cell_type": "code",
   "execution_count": null,
   "id": "d7384d17",
   "metadata": {},
   "outputs": [],
   "source": []
  },
  {
   "cell_type": "code",
   "execution_count": null,
   "id": "8e481a53",
   "metadata": {},
   "outputs": [],
   "source": []
  },
  {
   "cell_type": "code",
   "execution_count": null,
   "id": "28158d14",
   "metadata": {},
   "outputs": [],
   "source": []
  },
  {
   "cell_type": "code",
   "execution_count": null,
   "id": "a97d8aa9",
   "metadata": {},
   "outputs": [],
   "source": []
  },
  {
   "cell_type": "code",
   "execution_count": null,
   "id": "d5d62df9",
   "metadata": {},
   "outputs": [],
   "source": []
  },
  {
   "cell_type": "code",
   "execution_count": null,
   "id": "9aa0aa83",
   "metadata": {},
   "outputs": [],
   "source": []
  },
  {
   "cell_type": "code",
   "execution_count": null,
   "id": "c2553b40",
   "metadata": {},
   "outputs": [],
   "source": []
  },
  {
   "cell_type": "code",
   "execution_count": null,
   "id": "9726f85c",
   "metadata": {},
   "outputs": [],
   "source": []
  },
  {
   "cell_type": "code",
   "execution_count": null,
   "id": "a832495e",
   "metadata": {},
   "outputs": [],
   "source": []
  },
  {
   "cell_type": "code",
   "execution_count": null,
   "id": "9d864b62",
   "metadata": {},
   "outputs": [],
   "source": []
  },
  {
   "cell_type": "code",
   "execution_count": null,
   "id": "3332f55b",
   "metadata": {},
   "outputs": [],
   "source": []
  },
  {
   "cell_type": "code",
   "execution_count": null,
   "id": "c94563a1",
   "metadata": {},
   "outputs": [],
   "source": []
  },
  {
   "cell_type": "code",
   "execution_count": null,
   "id": "c8448ebf",
   "metadata": {},
   "outputs": [],
   "source": []
  },
  {
   "cell_type": "code",
   "execution_count": null,
   "id": "97e4eed0",
   "metadata": {},
   "outputs": [],
   "source": []
  },
  {
   "cell_type": "code",
   "execution_count": null,
   "id": "3b6542d9",
   "metadata": {},
   "outputs": [],
   "source": []
  },
  {
   "cell_type": "code",
   "execution_count": null,
   "id": "9f93d184",
   "metadata": {},
   "outputs": [],
   "source": []
  },
  {
   "cell_type": "code",
   "execution_count": null,
   "id": "608e2841",
   "metadata": {},
   "outputs": [],
   "source": []
  },
  {
   "cell_type": "code",
   "execution_count": null,
   "id": "a70ee82c",
   "metadata": {},
   "outputs": [],
   "source": []
  }
 ],
 "metadata": {
  "kernelspec": {
   "display_name": "Python 3 (ipykernel)",
   "language": "python",
   "name": "python3"
  },
  "language_info": {
   "codemirror_mode": {
    "name": "ipython",
    "version": 3
   },
   "file_extension": ".py",
   "mimetype": "text/x-python",
   "name": "python",
   "nbconvert_exporter": "python",
   "pygments_lexer": "ipython3",
   "version": "3.8.10"
  }
 },
 "nbformat": 4,
 "nbformat_minor": 5
}
