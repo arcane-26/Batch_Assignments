{
 "cells": [
  {
   "cell_type": "markdown",
   "id": "65547e73",
   "metadata": {},
   "source": [
    "# Question - 1 (solution)"
   ]
  },
  {
   "cell_type": "code",
   "execution_count": 1,
   "id": "539d785d",
   "metadata": {},
   "outputs": [
    {
     "name": "stdout",
     "output_type": "stream",
     "text": [
      "1\n",
      "2\n",
      "3\n",
      "4\n",
      "5\n",
      "6\n",
      "7\n",
      "8\n",
      "9\n",
      "10\n"
     ]
    }
   ],
   "source": [
    "# we use \"for loop\" when we know starting and ending point of some iterable range and we know the \n",
    "# number of iterations.\n",
    "\n",
    "\n",
    "# for example:\n",
    "# let's consider a range of 10 numbers and we want to print all the numbers\n",
    "\n",
    "\n",
    "for i in range(1,11):\n",
    "    print(i)"
   ]
  },
  {
   "cell_type": "code",
   "execution_count": 14,
   "id": "88cb1b03",
   "metadata": {},
   "outputs": [
    {
     "name": "stdout",
     "output_type": "stream",
     "text": [
      "enter a number: 4327877658\n",
      "remaining = 4327877658\n",
      "8\n",
      "remaining = 432787765\n",
      "5\n",
      "remaining = 43278776\n",
      "6\n",
      "remaining = 4327877\n",
      "7\n",
      "remaining = 432787\n",
      "7\n",
      "remaining = 43278\n",
      "8\n",
      "remaining = 4327\n",
      "7\n",
      "remaining = 432\n",
      "2\n",
      "remaining = 43\n",
      "3\n",
      "remaining = 4\n",
      "4\n"
     ]
    }
   ],
   "source": [
    "# we use \"while loop\" we aren't sure of how many iterations will take to match certain condition\n",
    "\n",
    "\n",
    "# for example suppose we want to print all the digits of number given by user as an input\n",
    "# since we are not sure of how many digit number user may input we also don't know how may \n",
    "# iteration we will have to make to print every single digit\n",
    "\n",
    "\n",
    "num=int(input(\"enter a number: \"))\n",
    "\n",
    "while num>0:\n",
    "    print(f\"remaining = {num}\")\n",
    "    print(num%10)\n",
    "    num=num//10\n",
    "    "
   ]
  },
  {
   "cell_type": "code",
   "execution_count": null,
   "id": "4dab595b",
   "metadata": {},
   "outputs": [],
   "source": []
  },
  {
   "cell_type": "code",
   "execution_count": null,
   "id": "95303247",
   "metadata": {},
   "outputs": [],
   "source": []
  },
  {
   "cell_type": "markdown",
   "id": "f9397169",
   "metadata": {},
   "source": [
    "# Question - 2 (solution)"
   ]
  },
  {
   "cell_type": "code",
   "execution_count": 27,
   "id": "828abacf",
   "metadata": {
    "scrolled": true
   },
   "outputs": [
    {
     "name": "stdout",
     "output_type": "stream",
     "text": [
      "\n",
      "sum of first 10 natural numbers:  55,\n",
      "product of first 10 natural numbers: 3628800\n"
     ]
    }
   ],
   "source": [
    "i=1\n",
    "\n",
    "Sum=0\n",
    "Prod=1\n",
    "\n",
    "while i<11:\n",
    "    \n",
    "    Sum=Sum+i\n",
    "    Prod=Prod*i\n",
    "    \n",
    "    i=i+1\n",
    "    \n",
    "\n",
    "print(f\"\"\"\n",
    "sum of first 10 natural numbers:  {Sum},\n",
    "product of first 10 natural numbers: {Prod}\"\"\")\n",
    "    \n",
    "    "
   ]
  },
  {
   "cell_type": "code",
   "execution_count": null,
   "id": "af1d1c43",
   "metadata": {},
   "outputs": [],
   "source": []
  },
  {
   "cell_type": "code",
   "execution_count": null,
   "id": "bab20f4e",
   "metadata": {},
   "outputs": [],
   "source": []
  },
  {
   "cell_type": "markdown",
   "id": "200e3a34",
   "metadata": {},
   "source": [
    "# Question - 3 (solution)"
   ]
  },
  {
   "cell_type": "code",
   "execution_count": 5,
   "id": "7ca4717f",
   "metadata": {},
   "outputs": [
    {
     "name": "stdout",
     "output_type": "stream",
     "text": [
      "enter the unit consumed per month: 310\n",
      "Electircity bill to be paid: Rs.2250.0\n"
     ]
    }
   ],
   "source": [
    "\n",
    "unit=int(input('enter the unit consumed per month: '))\n",
    "amount=0\n",
    "\n",
    "if unit>0 and unit<=100:\n",
    "    amount=unit*4.5\n",
    "elif unit>100 and unit<=200:\n",
    "    amount=(100*4.5)+(unit-100)*6\n",
    "elif unit>200 and unit<=300:\n",
    "    amount=(100*4.5)+(100*6)+(unit-200)*10\n",
    "elif unit>300:\n",
    "    amount=(100*4.5)+(100*6)+(100*10)+(unit-300)*20\n",
    "else:\n",
    "    print(\"Invalid input\")\n",
    "    \n",
    "print(f\"Electircity bill to be paid: Rs.{amount}\")\n",
    "    \n",
    "    "
   ]
  },
  {
   "cell_type": "code",
   "execution_count": null,
   "id": "66ad7a6a",
   "metadata": {},
   "outputs": [],
   "source": []
  },
  {
   "cell_type": "markdown",
   "id": "3958a3ab",
   "metadata": {},
   "source": [
    "# Question - 4 (solution)"
   ]
  },
  {
   "cell_type": "code",
   "execution_count": 28,
   "id": "e7f69d10",
   "metadata": {
    "scrolled": false
   },
   "outputs": [
    {
     "name": "stdout",
     "output_type": "stream",
     "text": [
      "\n",
      "List of Cubes of numbers from 1 to 100:\n",
      "\n",
      "[1, 8, 27, 64, 125, 216, 343, 512, 729, 1000, 1331, 1728, 2197, 2744, 3375, 4096, 4913, 5832, 6859, 8000, 9261, 10648, 12167, 13824, 15625, 17576, 19683, 21952, 24389, 27000, 29791, 32768, 35937, 39304, 42875, 46656, 50653, 54872, 59319, 64000, 68921, 74088, 79507, 85184, 91125, 97336, 103823, 110592, 117649, 125000, 132651, 140608, 148877, 157464, 166375, 175616, 185193, 195112, 205379, 216000, 226981, 238328, 250047, 262144, 274625, 287496, 300763, 314432, 328509, 343000, 357911, 373248, 389017, 405224, 421875, 438976, 456533, 474552, 493039, 512000, 531441, 551368, 571787, 592704, 614125, 636056, 658503, 681472, 704969, 729000, 753571, 778688, 804357, 830584, 857375, 884736, 912673, 941192, 970299, 1000000]\n",
      "\n",
      "\n",
      "List of cubes of numbers divisible by 4 and 5:\n",
      "\n",
      "\n",
      "[8, 64, 125, 216, 512, 1000, 1728, 2744, 3375, 4096, 5832, 8000, 10648, 13824, 15625, 17576, 21952, 27000, 32768, 39304, 42875, 46656, 54872, 64000, 74088, 85184, 91125, 97336, 110592, 125000, 140608, 157464, 166375, 175616, 195112, 216000, 238328, 262144, 274625, 287496, 314432, 343000, 373248, 405224, 421875, 438976, 474552, 512000, 551368, 592704, 614125, 636056, 681472, 729000, 778688, 830584, 857375, 884736, 941192, 1000000]\n"
     ]
    }
   ],
   "source": [
    "# solving the question using \"for loop\"\n",
    "\n",
    "a=list(range(1,101))\n",
    "\n",
    "\n",
    "b=[]\n",
    "l=[]\n",
    "\n",
    "for i in range(1,len(a)+1):\n",
    "    \n",
    "    l.append(i**3)\n",
    "    \n",
    "    if (i**3)%4==0 or (i**3)%5==0:\n",
    "        b.append(i**3)\n",
    "        \n",
    "\n",
    "print(f\"\"\"\n",
    "List of Cubes of numbers from 1 to 100:\n",
    "\n",
    "{l}\n",
    "\n",
    "\n",
    "List of cubes of numbers divisible by 4 and 5:\n",
    "\n",
    "\n",
    "{b}\"\"\")\n"
   ]
  },
  {
   "cell_type": "code",
   "execution_count": null,
   "id": "091af3a9",
   "metadata": {},
   "outputs": [],
   "source": []
  },
  {
   "cell_type": "code",
   "execution_count": 30,
   "id": "fdfa15ee",
   "metadata": {},
   "outputs": [
    {
     "name": "stdout",
     "output_type": "stream",
     "text": [
      "\n",
      "List of Cubes of numbers from 1 to 100:\n",
      "\n",
      "[1, 8, 27, 64, 125, 216, 343, 512, 729, 1000, 1331, 1728, 2197, 2744, 3375, 4096, 4913, 5832, 6859, 8000, 9261, 10648, 12167, 13824, 15625, 17576, 19683, 21952, 24389, 27000, 29791, 32768, 35937, 39304, 42875, 46656, 50653, 54872, 59319, 64000, 68921, 74088, 79507, 85184, 91125, 97336, 103823, 110592, 117649, 125000, 132651, 140608, 148877, 157464, 166375, 175616, 185193, 195112, 205379, 216000, 226981, 238328, 250047, 262144, 274625, 287496, 300763, 314432, 328509, 343000, 357911, 373248, 389017, 405224, 421875, 438976, 456533, 474552, 493039, 512000, 531441, 551368, 571787, 592704, 614125, 636056, 658503, 681472, 704969, 729000, 753571, 778688, 804357, 830584, 857375, 884736, 912673, 941192, 970299, 1000000]\n",
      "\n",
      "\n",
      "List of cubes of numbers divisible by 4 and 5:\n",
      "\n",
      "\n",
      "[8, 64, 125, 216, 512, 1000, 1728, 2744, 3375, 4096, 5832, 8000, 10648, 13824, 15625, 17576, 21952, 27000, 32768, 39304, 42875, 46656, 54872, 64000, 74088, 85184, 91125, 97336, 110592, 125000, 140608, 157464, 166375, 175616, 195112, 216000, 238328, 262144, 274625, 287496, 314432, 343000, 373248, 405224, 421875, 438976, 474552, 512000, 551368, 592704, 614125, 636056, 681472, 729000, 778688, 830584, 857375, 884736, 941192, 1000000]\n"
     ]
    }
   ],
   "source": [
    "# solving the question using while loop\n",
    "\n",
    "a=list(range(1,101))\n",
    "\n",
    "\n",
    "b=[]\n",
    "l=[]\n",
    "\n",
    "i=1\n",
    "\n",
    "while i < (len(a)+1):\n",
    "    \n",
    "    l.append(i**3)\n",
    "    \n",
    "    if (i**3)%4==0 or (i**3)%5==0:\n",
    "        b.append(i**3)\n",
    "    i=i+1\n",
    "\n",
    "        \n",
    "\n",
    "print(f\"\"\"\n",
    "List of Cubes of numbers from 1 to 100:\n",
    "\n",
    "{l}\n",
    "\n",
    "\n",
    "List of cubes of numbers divisible by 4 and 5:\n",
    "\n",
    "\n",
    "{b}\"\"\")\n",
    "\n"
   ]
  },
  {
   "cell_type": "code",
   "execution_count": null,
   "id": "649f1b5d",
   "metadata": {},
   "outputs": [],
   "source": []
  },
  {
   "cell_type": "code",
   "execution_count": null,
   "id": "127470ab",
   "metadata": {},
   "outputs": [],
   "source": []
  },
  {
   "cell_type": "code",
   "execution_count": null,
   "id": "dbab80da",
   "metadata": {},
   "outputs": [],
   "source": []
  },
  {
   "cell_type": "markdown",
   "id": "9ca41ba5",
   "metadata": {},
   "source": [
    "# Question - 5 (solution)"
   ]
  },
  {
   "cell_type": "code",
   "execution_count": 3,
   "id": "57e70e93",
   "metadata": {},
   "outputs": [
    {
     "name": "stdout",
     "output_type": "stream",
     "text": [
      "Total no. of vowels in given string: 12\n"
     ]
    }
   ],
   "source": [
    "string=\"I want to become a data scientist\"\n",
    "lower_string=string.lower()\n",
    "vowels=[\"a\",\"e\",\"i\",\"o\",\"u\"]\n",
    "count=0\n",
    "\n",
    "\n",
    "for i in lower_string:\n",
    "    if i in vowels:\n",
    "        count=count+1\n",
    "            \n",
    "            \n",
    "            \n",
    "\n",
    "print(f\"Total no. of vowels in given string: {count}\")"
   ]
  },
  {
   "cell_type": "code",
   "execution_count": null,
   "id": "6b4e2ae7",
   "metadata": {},
   "outputs": [],
   "source": []
  }
 ],
 "metadata": {
  "kernelspec": {
   "display_name": "Python 3 (ipykernel)",
   "language": "python",
   "name": "python3"
  },
  "language_info": {
   "codemirror_mode": {
    "name": "ipython",
    "version": 3
   },
   "file_extension": ".py",
   "mimetype": "text/x-python",
   "name": "python",
   "nbconvert_exporter": "python",
   "pygments_lexer": "ipython3",
   "version": "3.8.10"
  }
 },
 "nbformat": 4,
 "nbformat_minor": 5
}
