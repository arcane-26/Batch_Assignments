{
 "cells": [
  {
   "cell_type": "code",
   "execution_count": null,
   "id": "3249a3d0",
   "metadata": {},
   "outputs": [],
   "source": []
  },
  {
   "cell_type": "code",
   "execution_count": null,
   "id": "074aa693",
   "metadata": {},
   "outputs": [],
   "source": []
  },
  {
   "cell_type": "code",
   "execution_count": null,
   "id": "7b211363",
   "metadata": {},
   "outputs": [],
   "source": [
    "# QUESTION 1"
   ]
  },
  {
   "cell_type": "code",
   "execution_count": 1,
   "id": "10529844",
   "metadata": {},
   "outputs": [
    {
     "name": "stdout",
     "output_type": "stream",
     "text": [
      "flat list = [1, 2, 3, 4, 44, 55, 66, 34, 56, 78, 89, 34, 1, 2, 3, 1, 4, 34, 55, 67, 78, 89, 45, 22, 61, 34, 56]\n",
      "product of list = 4134711838987085478833841242112000\n"
     ]
    }
   ],
   "source": [
    "from functools import reduce\n",
    "\n",
    "list1 = [1,2,3,4, [44,55,66, True], False, (34,56,78,89,34), {1,2,3,3,2,1}, {1:34, \"key2\": [55, 67, 78, 89], 4: (45,\n",
    "22, 61, 34)}, [56, 'data science'], 'Machine Learning']\n",
    "\n",
    "\n",
    "\n",
    "\n",
    "\n",
    "\n",
    "\n",
    "\n",
    "def data(l):\n",
    "    k=[]\n",
    "\n",
    "    def open_iterable(v):\n",
    "\n",
    "        k = []\n",
    "        for i in v:\n",
    "            if type(i) == int:\n",
    "                k.append(i)\n",
    "            else:\n",
    "                continue\n",
    "\n",
    "        return k\n",
    "\n",
    "\n",
    "    for i in l:\n",
    "        if type(i)==int:\n",
    "            k.append(i)\n",
    "        elif type(i)==bool:\n",
    "            continue\n",
    "        elif type(i)==dict:\n",
    "            for l in i.keys():\n",
    "                if type(l)==int:\n",
    "                    k.append(l)\n",
    "                else:\n",
    "                    continue\n",
    "\n",
    "            for l in i.values():\n",
    "                if type(l)==int:\n",
    "                    k.append(l)\n",
    "                else:\n",
    "                    s=open_iterable(l)\n",
    "                    for i in s:\n",
    "                        k.append(i)\n",
    "\n",
    "        elif type(i)==bool:\n",
    "            pass\n",
    "\n",
    "        else:\n",
    "            s=open_iterable(i)\n",
    "            for i in s:\n",
    "                k.append(i)\n",
    "\n",
    "\n",
    "\n",
    "    prod=reduce(lambda x,y:x*y,k)\n",
    "\n",
    "    return f\"\"\"flat list = {k}\n",
    "product of list = {prod}\"\"\"\n",
    "\n",
    "\n",
    "\n",
    "\n",
    "result=data(list1)\n",
    "print(result)"
   ]
  },
  {
   "cell_type": "code",
   "execution_count": null,
   "id": "a1c057d1",
   "metadata": {},
   "outputs": [],
   "source": []
  },
  {
   "cell_type": "code",
   "execution_count": 2,
   "id": "9158ee3b",
   "metadata": {},
   "outputs": [],
   "source": [
    "# QUESTION 2"
   ]
  },
  {
   "cell_type": "code",
   "execution_count": 10,
   "id": "cff8f6f5",
   "metadata": {},
   "outputs": [],
   "source": [
    "def encryption(sentence):\n",
    "    filtered=sentence.lower()\n",
    "    rule={'a':'z','b':'y','c':'x','d':'w','e':'v','f':'u','g':'t','h':'s','i':'r','j':'q','k':'p','l':'o','m':'n','n':'m','o':'l','p':'k','q':'j','r':'i','s':'h','t':'g','u':'f','v':'e','w':'d','x':'c','y':'b','z':'a',' ':'$'}\n",
    "    msg=''\n",
    "    for i in filtered:\n",
    "        if i in rule:\n",
    "            msg=msg+rule[i]\n",
    "        else:\n",
    "            continue\n",
    "        \n",
    "    return msg\n",
    "            \n",
    "            \n",
    "    \n",
    "    \n",
    "    \n",
    "    "
   ]
  },
  {
   "cell_type": "code",
   "execution_count": 12,
   "id": "328a292b",
   "metadata": {},
   "outputs": [],
   "source": [
    "sentence=\"I want to become a Data Scientist.\""
   ]
  },
  {
   "cell_type": "code",
   "execution_count": 13,
   "id": "204ea9e9",
   "metadata": {},
   "outputs": [],
   "source": [
    "encrypted_msg=encryption(sentence)"
   ]
  },
  {
   "cell_type": "code",
   "execution_count": 15,
   "id": "69b62a07",
   "metadata": {},
   "outputs": [
    {
     "data": {
      "text/plain": [
       "'r$dzmg$gl$yvxlnv$z$wzgz$hxrvmgrhg'"
      ]
     },
     "execution_count": 15,
     "metadata": {},
     "output_type": "execute_result"
    }
   ],
   "source": [
    "encrypted_msg"
   ]
  },
  {
   "cell_type": "code",
   "execution_count": null,
   "id": "333368e3",
   "metadata": {},
   "outputs": [],
   "source": []
  },
  {
   "cell_type": "code",
   "execution_count": null,
   "id": "13ea92f6",
   "metadata": {},
   "outputs": [],
   "source": []
  },
  {
   "cell_type": "code",
   "execution_count": null,
   "id": "68ee25ef",
   "metadata": {},
   "outputs": [],
   "source": []
  },
  {
   "cell_type": "code",
   "execution_count": null,
   "id": "a7aa030f",
   "metadata": {},
   "outputs": [],
   "source": []
  },
  {
   "cell_type": "code",
   "execution_count": null,
   "id": "b4a7bd6d",
   "metadata": {},
   "outputs": [],
   "source": []
  },
  {
   "cell_type": "code",
   "execution_count": null,
   "id": "2e194bd4",
   "metadata": {},
   "outputs": [],
   "source": []
  },
  {
   "cell_type": "code",
   "execution_count": null,
   "id": "477c1869",
   "metadata": {},
   "outputs": [],
   "source": []
  },
  {
   "cell_type": "code",
   "execution_count": null,
   "id": "1519de40",
   "metadata": {},
   "outputs": [],
   "source": []
  },
  {
   "cell_type": "code",
   "execution_count": null,
   "id": "e9dc370e",
   "metadata": {},
   "outputs": [],
   "source": []
  },
  {
   "cell_type": "code",
   "execution_count": null,
   "id": "ce3ecfc9",
   "metadata": {},
   "outputs": [],
   "source": []
  },
  {
   "cell_type": "code",
   "execution_count": null,
   "id": "80f0aaf9",
   "metadata": {},
   "outputs": [],
   "source": []
  }
 ],
 "metadata": {
  "kernelspec": {
   "display_name": "Python 3 (ipykernel)",
   "language": "python",
   "name": "python3"
  },
  "language_info": {
   "codemirror_mode": {
    "name": "ipython",
    "version": 3
   },
   "file_extension": ".py",
   "mimetype": "text/x-python",
   "name": "python",
   "nbconvert_exporter": "python",
   "pygments_lexer": "ipython3",
   "version": "3.8.10"
  }
 },
 "nbformat": 4,
 "nbformat_minor": 5
}
