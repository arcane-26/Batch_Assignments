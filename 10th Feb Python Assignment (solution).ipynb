{
 "cells": [
  {
   "cell_type": "markdown",
   "id": "07441e25",
   "metadata": {},
   "source": [
    "# QUESTION 1 (SOLUTION)"
   ]
  },
  {
   "cell_type": "markdown",
   "id": "2363ee96",
   "metadata": {},
   "source": [
    "**open()** function is used to open a file.\n",
    "different modes of opening a file\n",
    "* 'r'    -reading an existing file, if file not exist error is raised\n",
    "* 'w'     - Truncate the data from existing file and writing new data,if file not exist create new file\n",
    "* 'r+'    - read and write in an existing file, if file not exist error is raised\n",
    "* 'w+'    - read and write after truncating the data,if file not exist create new file\n",
    "* 'a'     - append in and existing file without truncating\n",
    "* 'rb'    - reading exisiting binary file, if not exist error is raised\n",
    "* 'wb'    - writing in binary file after truncating the data, if file not exist creating new binary file"
   ]
  },
  {
   "cell_type": "code",
   "execution_count": null,
   "id": "b4c536e5",
   "metadata": {},
   "outputs": [],
   "source": []
  },
  {
   "cell_type": "markdown",
   "id": "624798e2",
   "metadata": {},
   "source": [
    "# QUESTION 2 (SOLUTION)"
   ]
  },
  {
   "cell_type": "markdown",
   "id": "0c640090",
   "metadata": {},
   "source": [
    " **close()** function is used to close a file after completion of operation performed on the file\n",
    " It is very important to close an existing file, it will empty the memory which has been occupied \n",
    " for file operation,if there are various  opened file is not closed then the resources that had been allocated in the momory will cause the program to slow down or even can crash."
   ]
  },
  {
   "cell_type": "code",
   "execution_count": null,
   "id": "461d1122",
   "metadata": {},
   "outputs": [],
   "source": []
  },
  {
   "cell_type": "markdown",
   "id": "4c9a5fee",
   "metadata": {},
   "source": [
    "# QUESTION 3 (SOLUTION)"
   ]
  },
  {
   "cell_type": "code",
   "execution_count": 15,
   "id": "e0fc46eb",
   "metadata": {},
   "outputs": [],
   "source": [
    "f=open('msg.txt','w')\n",
    "f.write(\"I want to become a Data Scientist\")\n",
    "f.close()"
   ]
  },
  {
   "cell_type": "code",
   "execution_count": null,
   "id": "4d45f1a2",
   "metadata": {},
   "outputs": [],
   "source": []
  },
  {
   "cell_type": "code",
   "execution_count": 16,
   "id": "2c41080d",
   "metadata": {},
   "outputs": [
    {
     "name": "stdout",
     "output_type": "stream",
     "text": [
      "I want to become a Data Scientist\n"
     ]
    }
   ],
   "source": [
    "f=open('msg.txt','r')\n",
    "print(f.read())"
   ]
  },
  {
   "cell_type": "code",
   "execution_count": 17,
   "id": "ea93def3",
   "metadata": {},
   "outputs": [],
   "source": [
    "f.close()"
   ]
  },
  {
   "cell_type": "code",
   "execution_count": null,
   "id": "b61736f5",
   "metadata": {},
   "outputs": [],
   "source": []
  },
  {
   "cell_type": "markdown",
   "id": "ecfdb7e2",
   "metadata": {},
   "source": [
    "# QUESTION 4 (SOLUTION)"
   ]
  },
  {
   "cell_type": "markdown",
   "id": "04bffe9f",
   "metadata": {},
   "source": [
    "* **read()** - read function is used to read the entire content from existing text file\n",
    "* **readline()** - readline is function used to read a complete line ending with '\\n' from a file. It read the content of file line by line\n",
    "\n",
    "* **readlines()** - readlines in python is used to read the content of file as a list of strings, where each string represent a line from file"
   ]
  },
  {
   "cell_type": "code",
   "execution_count": null,
   "id": "7a2bd776",
   "metadata": {},
   "outputs": [],
   "source": []
  },
  {
   "cell_type": "markdown",
   "id": "b343e877",
   "metadata": {},
   "source": [
    "# QUESTION 5 (SOLUTION)"
   ]
  },
  {
   "cell_type": "markdown",
   "id": "5200dc6a",
   "metadata": {},
   "source": [
    "The advantage of using with statement and open() together is that after the completion of the operation the file is automatically closed, we dont have to call close() function. It automatically manage the life time of the file object."
   ]
  },
  {
   "cell_type": "code",
   "execution_count": null,
   "id": "449746fa",
   "metadata": {},
   "outputs": [],
   "source": []
  },
  {
   "cell_type": "code",
   "execution_count": null,
   "id": "dabf2427",
   "metadata": {},
   "outputs": [],
   "source": []
  },
  {
   "cell_type": "markdown",
   "id": "96ac2615",
   "metadata": {},
   "source": [
    "# QUESTION 6 (SOLUTION)"
   ]
  },
  {
   "cell_type": "markdown",
   "id": "12c8f9d1",
   "metadata": {},
   "source": [
    "* **write()** - write method is used to write text in the file and these text are written continously \n",
    "* **writeline()** - writeline method is used to write the text line by line and at the end of each \n",
    "string of text '\\n' is included which denotes end of line"
   ]
  },
  {
   "cell_type": "code",
   "execution_count": null,
   "id": "38c359eb",
   "metadata": {},
   "outputs": [],
   "source": []
  },
  {
   "cell_type": "code",
   "execution_count": 18,
   "id": "df53cfca",
   "metadata": {},
   "outputs": [],
   "source": [
    "with open(\"msg.txt\",'w') as f:\n",
    "    f.write(\"My aim is to become a Data Scientist and I got one of the best mentors of my life, sudhanshu sir \")"
   ]
  },
  {
   "cell_type": "code",
   "execution_count": 19,
   "id": "fcdc6e5e",
   "metadata": {},
   "outputs": [
    {
     "name": "stdout",
     "output_type": "stream",
     "text": [
      "My aim is to become a Data Scientist and I got one of the best mentors of my life, sudhanshu sir \n"
     ]
    }
   ],
   "source": [
    "with open('msg.txt','r') as f:\n",
    "    print(f.read())"
   ]
  },
  {
   "cell_type": "code",
   "execution_count": null,
   "id": "bc10e229",
   "metadata": {},
   "outputs": [],
   "source": []
  },
  {
   "cell_type": "code",
   "execution_count": 20,
   "id": "aa9d92a6",
   "metadata": {},
   "outputs": [],
   "source": [
    "with open ('data.txt','w') as f:\n",
    "    f.writelines(\"I am ashish kumar\\nI will become a Data Scientist\\nI am passionate towards my goal\\n\")"
   ]
  },
  {
   "cell_type": "code",
   "execution_count": 21,
   "id": "77b44983",
   "metadata": {},
   "outputs": [
    {
     "name": "stdout",
     "output_type": "stream",
     "text": [
      "I am ashish kumar\n",
      "I will become a Data Scientist\n",
      "I am passionate towards my goal\n",
      "\n"
     ]
    }
   ],
   "source": [
    "with open ('data.txt','r') as f:\n",
    "    print(f.read())"
   ]
  },
  {
   "cell_type": "code",
   "execution_count": null,
   "id": "762cce69",
   "metadata": {},
   "outputs": [],
   "source": []
  },
  {
   "cell_type": "code",
   "execution_count": null,
   "id": "52739c1f",
   "metadata": {},
   "outputs": [],
   "source": []
  },
  {
   "cell_type": "code",
   "execution_count": null,
   "id": "0b9d7a8a",
   "metadata": {},
   "outputs": [],
   "source": []
  },
  {
   "cell_type": "code",
   "execution_count": null,
   "id": "e57e9c0b",
   "metadata": {},
   "outputs": [],
   "source": []
  },
  {
   "cell_type": "code",
   "execution_count": null,
   "id": "8ba976b6",
   "metadata": {},
   "outputs": [],
   "source": []
  }
 ],
 "metadata": {
  "kernelspec": {
   "display_name": "Python 3 (ipykernel)",
   "language": "python",
   "name": "python3"
  },
  "language_info": {
   "codemirror_mode": {
    "name": "ipython",
    "version": 3
   },
   "file_extension": ".py",
   "mimetype": "text/x-python",
   "name": "python",
   "nbconvert_exporter": "python",
   "pygments_lexer": "ipython3",
   "version": "3.8.10"
  }
 },
 "nbformat": 4,
 "nbformat_minor": 5
}
