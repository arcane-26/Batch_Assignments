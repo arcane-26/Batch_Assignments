{
 "cells": [
  {
   "cell_type": "markdown",
   "id": "388041a9",
   "metadata": {},
   "source": [
    "# QUESTION 1 (SOLUTION)"
   ]
  },
  {
   "cell_type": "markdown",
   "id": "c1c9f8ab",
   "metadata": {},
   "source": [
    "Abstraction is a concept in object oriented programming which hides the unnecessary features of a programm and show only the essential attributes or methods which are important. It helps to reduce the complexity of the programm.\n",
    "\n",
    "In python abstact method are used to define abstractions.an abstact method used in abstract class\n",
    "has no use inside it but it must be overriden in the child class, so that child class can inherit the\n",
    "parent abstract class\n"
   ]
  },
  {
   "cell_type": "code",
   "execution_count": 1,
   "id": "4799f2a6",
   "metadata": {},
   "outputs": [],
   "source": [
    "from abc import ABC,abstractmethod\n",
    "\n",
    "class Bank(ABC):\n",
    "    \n",
    "    def Database(self):\n",
    "        return \"accessing the database\"\n",
    "    \n",
    "    @abstractmethod\n",
    "    def security(self):\n",
    "        pass\n",
    "    \n",
    "class web_application(Bank):\n",
    "    \n",
    "    def login(self):\n",
    "        return \"trying logging inside database\""
   ]
  },
  {
   "cell_type": "code",
   "execution_count": 2,
   "id": "405ad065",
   "metadata": {},
   "outputs": [
    {
     "ename": "TypeError",
     "evalue": "Can't instantiate abstract class web_application with abstract methods security",
     "output_type": "error",
     "traceback": [
      "\u001b[1;31m---------------------------------------------------------------------------\u001b[0m",
      "\u001b[1;31mTypeError\u001b[0m                                 Traceback (most recent call last)",
      "Cell \u001b[1;32mIn[2], line 1\u001b[0m\n\u001b[1;32m----> 1\u001b[0m app1\u001b[38;5;241m=\u001b[39m\u001b[43mweb_application\u001b[49m\u001b[43m(\u001b[49m\u001b[43m)\u001b[49m\n",
      "\u001b[1;31mTypeError\u001b[0m: Can't instantiate abstract class web_application with abstract methods security"
     ]
    }
   ],
   "source": [
    "app1=web_application()"
   ]
  },
  {
   "cell_type": "code",
   "execution_count": null,
   "id": "8d595319",
   "metadata": {},
   "outputs": [],
   "source": [
    "# we can see that the error have occured because we have not overriddent he method of the \n",
    "# abstract class (Bank)"
   ]
  },
  {
   "cell_type": "code",
   "execution_count": 3,
   "id": "b504de5d",
   "metadata": {},
   "outputs": [],
   "source": [
    "from abc import ABC,abstractmethod\n",
    "\n",
    "class Bank(ABC):\n",
    "    \n",
    "    def Database(self):\n",
    "        return \"accessing the database\"\n",
    "    \n",
    "    @abstractmethod\n",
    "    def security(self):\n",
    "        pass\n",
    "    \n",
    "class web_application(Bank):\n",
    "    \n",
    "    def security(self):\n",
    "        return \"security protocol implemented\"\n",
    "    \n",
    "    def login(self):\n",
    "        return \"trying logging inside database\""
   ]
  },
  {
   "cell_type": "code",
   "execution_count": 4,
   "id": "3aa0e8b1",
   "metadata": {},
   "outputs": [],
   "source": [
    "app2=web_application()"
   ]
  },
  {
   "cell_type": "code",
   "execution_count": 5,
   "id": "7821d14b",
   "metadata": {},
   "outputs": [
    {
     "data": {
      "text/plain": [
       "'accessing the database'"
      ]
     },
     "execution_count": 5,
     "metadata": {},
     "output_type": "execute_result"
    }
   ],
   "source": [
    "app2.Database()"
   ]
  },
  {
   "cell_type": "code",
   "execution_count": null,
   "id": "b3a69092",
   "metadata": {},
   "outputs": [],
   "source": []
  },
  {
   "cell_type": "code",
   "execution_count": null,
   "id": "9fb294af",
   "metadata": {},
   "outputs": [],
   "source": []
  },
  {
   "cell_type": "markdown",
   "id": "978b910b",
   "metadata": {},
   "source": [
    "# QUESTION 2 (SOLUTION)"
   ]
  },
  {
   "cell_type": "markdown",
   "id": "02126733",
   "metadata": {},
   "source": [
    "Abstraction is the concept of hiding the implementation of data and presenting only essential information and main goal is to simplify the program and make it easier to understand whereas\n",
    "Encapsulation is used to wrap the properties and methods into single unit and hide it in order to prevent the misuse of data."
   ]
  },
  {
   "cell_type": "code",
   "execution_count": null,
   "id": "07a73459",
   "metadata": {},
   "outputs": [],
   "source": []
  },
  {
   "cell_type": "code",
   "execution_count": null,
   "id": "dc0b2048",
   "metadata": {},
   "outputs": [],
   "source": []
  },
  {
   "cell_type": "code",
   "execution_count": 28,
   "id": "6e5b4e29",
   "metadata": {},
   "outputs": [],
   "source": [
    "class vault:\n",
    "    def __init__(self):\n",
    "        self.__data=\"pwskill is a amazing learining paltform\"\n",
    "        \n",
    "    def add_txt(self,txt):\n",
    "        if type(txt)==str:\n",
    "            self.__data= self.__data + txt\n",
    "        else:\n",
    "            return \"invalid input\"\n",
    "            \n",
    "    def get_txt(self):\n",
    "        return self.__data\n",
    "    \n",
    "\n",
    "class message:\n",
    "    \n",
    "    def __init__(self,vault):\n",
    "        self.msg=vault\n",
    "        \n",
    "    def make_edit(self,txt):\n",
    "        return self.msg.add_txt(txt)\n",
    "        \n",
    "    def display(self):\n",
    "        return self.msg.get_txt()\n",
    "    \n",
    "    \n",
    "            \n",
    "    \n",
    "    "
   ]
  },
  {
   "cell_type": "code",
   "execution_count": 29,
   "id": "de1201ad",
   "metadata": {},
   "outputs": [],
   "source": [
    "data=vault()"
   ]
  },
  {
   "cell_type": "code",
   "execution_count": 30,
   "id": "732ec304",
   "metadata": {},
   "outputs": [],
   "source": [
    "i=message(data)"
   ]
  },
  {
   "cell_type": "code",
   "execution_count": 31,
   "id": "1f8c7e30",
   "metadata": {},
   "outputs": [
    {
     "data": {
      "text/plain": [
       "'pwskill is a amazing learining paltform'"
      ]
     },
     "execution_count": 31,
     "metadata": {},
     "output_type": "execute_result"
    }
   ],
   "source": [
    "i.display()"
   ]
  },
  {
   "cell_type": "code",
   "execution_count": null,
   "id": "79cc5ab4",
   "metadata": {},
   "outputs": [],
   "source": []
  },
  {
   "cell_type": "markdown",
   "id": "8d0598c7",
   "metadata": {},
   "source": [
    "In the above code vault class uses ecapsulation by keeping the data variable private and only allowing to access though getter method\n",
    "\n",
    "In message class abstraction is implemnted since an object of vault class is use hiding its implementation and showing only important methods "
   ]
  },
  {
   "cell_type": "code",
   "execution_count": null,
   "id": "6710cd7d",
   "metadata": {},
   "outputs": [],
   "source": []
  },
  {
   "cell_type": "code",
   "execution_count": null,
   "id": "8fd2df5f",
   "metadata": {},
   "outputs": [],
   "source": []
  },
  {
   "cell_type": "markdown",
   "id": "983a7b54",
   "metadata": {},
   "source": [
    "# QUESTION 3 (SOLUTION)"
   ]
  },
  {
   "cell_type": "markdown",
   "id": "6a3146c4",
   "metadata": {},
   "source": [
    "abc module is known as Abstract Base Class in Python, it used as a blueprint of other classe.\n",
    "It is used to make sure that abstract methods are implemented in derived classes.\n",
    "abc module also provide decoratos like '@abstractmethod' that is used to make a method abstract."
   ]
  },
  {
   "cell_type": "code",
   "execution_count": null,
   "id": "353c5ea4",
   "metadata": {},
   "outputs": [],
   "source": []
  },
  {
   "cell_type": "code",
   "execution_count": null,
   "id": "6357ffda",
   "metadata": {},
   "outputs": [],
   "source": []
  },
  {
   "cell_type": "markdown",
   "id": "779bb073",
   "metadata": {},
   "source": [
    "# QUESTION 4 (SOLUTION)"
   ]
  },
  {
   "cell_type": "markdown",
   "id": "dd389fab",
   "metadata": {},
   "source": [
    " Data abstraction is achived through the use of classes and objects. Inside the class properties are\n",
    " usually declared private which means that it can only be accessed within the class. The encapsulation\n",
    " of these private attributes with function provides us abstraction.\n",
    " \n",
    " when the object of the class is created then the user of the object will able to get only necessary information about the methods of the objects hence in this case abstraction allows user to focus the behaviour of object and hiding the details and its implementation"
   ]
  },
  {
   "cell_type": "code",
   "execution_count": null,
   "id": "b5a74f7f",
   "metadata": {},
   "outputs": [],
   "source": []
  },
  {
   "cell_type": "markdown",
   "id": "e8f53b61",
   "metadata": {},
   "source": [
    "# QUESTION 5 (SOLUTION)"
   ]
  },
  {
   "cell_type": "markdown",
   "id": "0128ac3e",
   "metadata": {},
   "source": [
    "No, we cannot create the instance of abstract class, the main purpose of the abstact class is to define common rules for its child classes. Using abstract class we ensure certain methods are implemented in child classes."
   ]
  },
  {
   "cell_type": "code",
   "execution_count": null,
   "id": "115665b0",
   "metadata": {},
   "outputs": [],
   "source": []
  },
  {
   "cell_type": "code",
   "execution_count": null,
   "id": "60af44fe",
   "metadata": {},
   "outputs": [],
   "source": []
  },
  {
   "cell_type": "code",
   "execution_count": null,
   "id": "13a5cf36",
   "metadata": {},
   "outputs": [],
   "source": []
  },
  {
   "cell_type": "code",
   "execution_count": null,
   "id": "0e614395",
   "metadata": {},
   "outputs": [],
   "source": []
  }
 ],
 "metadata": {
  "kernelspec": {
   "display_name": "Python 3 (ipykernel)",
   "language": "python",
   "name": "python3"
  },
  "language_info": {
   "codemirror_mode": {
    "name": "ipython",
    "version": 3
   },
   "file_extension": ".py",
   "mimetype": "text/x-python",
   "name": "python",
   "nbconvert_exporter": "python",
   "pygments_lexer": "ipython3",
   "version": "3.8.10"
  }
 },
 "nbformat": 4,
 "nbformat_minor": 5
}
