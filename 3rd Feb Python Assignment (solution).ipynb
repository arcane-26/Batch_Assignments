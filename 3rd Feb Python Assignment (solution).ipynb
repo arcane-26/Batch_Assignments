{
 "cells": [
  {
   "cell_type": "markdown",
   "id": "e6855c4f",
   "metadata": {},
   "source": [
    "# solution (Q1)"
   ]
  },
  {
   "cell_type": "markdown",
   "id": "1974e83e",
   "metadata": {},
   "source": [
    "\" def \" keyword is used to create functions."
   ]
  },
  {
   "cell_type": "code",
   "execution_count": 14,
   "id": "b8d1480a",
   "metadata": {},
   "outputs": [],
   "source": [
    "def oddnum():\n",
    "    l=[]\n",
    "    for i in range(1,25):\n",
    "        if i%2!=0:\n",
    "            l.append(i)\n",
    "        else:\n",
    "            continue\n",
    "    return l"
   ]
  },
  {
   "cell_type": "code",
   "execution_count": 15,
   "id": "8f3eab49",
   "metadata": {},
   "outputs": [
    {
     "data": {
      "text/plain": [
       "[1, 3, 5, 7, 9, 11, 13, 15, 17, 19, 21, 23]"
      ]
     },
     "execution_count": 15,
     "metadata": {},
     "output_type": "execute_result"
    }
   ],
   "source": [
    "oddnum()"
   ]
  },
  {
   "cell_type": "code",
   "execution_count": null,
   "id": "a4f860d0",
   "metadata": {},
   "outputs": [],
   "source": []
  },
  {
   "cell_type": "markdown",
   "id": "cd4a2f1d",
   "metadata": {},
   "source": [
    "# solution (Q2)"
   ]
  },
  {
   "cell_type": "markdown",
   "id": "a91a25e8",
   "metadata": {},
   "source": [
    "' *args '\n",
    "uses when various number of arguments are needed to be passed inside function call\n",
    "and this makes it dynamic. important point to be noted is that \"*\" should be present when we add parameter inside function defination\n",
    "\n",
    "' **kwargs '\n",
    "It is used when key=value pair is  passed as argument. we have to  use ** during defining the function. It will return dictonary with key:value pair"
   ]
  },
  {
   "cell_type": "code",
   "execution_count": 3,
   "id": "7d0ede38",
   "metadata": {},
   "outputs": [],
   "source": [
    "def test(*args):\n",
    "    return args"
   ]
  },
  {
   "cell_type": "code",
   "execution_count": 5,
   "id": "270c8de3",
   "metadata": {},
   "outputs": [],
   "source": [
    "data=test(1,2,5.6,\"ashish\")"
   ]
  },
  {
   "cell_type": "code",
   "execution_count": 6,
   "id": "55f2505b",
   "metadata": {},
   "outputs": [
    {
     "data": {
      "text/plain": [
       "(1, 2, 5.6, 'ashish')"
      ]
     },
     "execution_count": 6,
     "metadata": {},
     "output_type": "execute_result"
    }
   ],
   "source": [
    "data"
   ]
  },
  {
   "cell_type": "code",
   "execution_count": null,
   "id": "b3f80bca",
   "metadata": {},
   "outputs": [],
   "source": []
  },
  {
   "cell_type": "code",
   "execution_count": null,
   "id": "b160a930",
   "metadata": {},
   "outputs": [],
   "source": []
  },
  {
   "cell_type": "code",
   "execution_count": null,
   "id": "e545c35c",
   "metadata": {},
   "outputs": [],
   "source": []
  },
  {
   "cell_type": "code",
   "execution_count": 7,
   "id": "999ff753",
   "metadata": {},
   "outputs": [],
   "source": [
    "def test2(**kwargs):\n",
    "    return kwargs\n"
   ]
  },
  {
   "cell_type": "code",
   "execution_count": 9,
   "id": "bd518df3",
   "metadata": {},
   "outputs": [],
   "source": [
    "imformation = test2( a=[1,2,3], b=\"ashish\")"
   ]
  },
  {
   "cell_type": "code",
   "execution_count": 10,
   "id": "bd74ae31",
   "metadata": {},
   "outputs": [
    {
     "data": {
      "text/plain": [
       "{'a': [1, 2, 3], 'b': 'ashish'}"
      ]
     },
     "execution_count": 10,
     "metadata": {},
     "output_type": "execute_result"
    }
   ],
   "source": [
    "imformation"
   ]
  },
  {
   "cell_type": "code",
   "execution_count": null,
   "id": "e1621f20",
   "metadata": {},
   "outputs": [],
   "source": []
  },
  {
   "cell_type": "code",
   "execution_count": null,
   "id": "496b5fe5",
   "metadata": {},
   "outputs": [],
   "source": []
  },
  {
   "cell_type": "code",
   "execution_count": null,
   "id": "da6e7183",
   "metadata": {},
   "outputs": [],
   "source": []
  },
  {
   "cell_type": "code",
   "execution_count": null,
   "id": "190f0473",
   "metadata": {},
   "outputs": [],
   "source": []
  },
  {
   "cell_type": "markdown",
   "id": "6de125f7",
   "metadata": {},
   "source": [
    "# solution (Q3)"
   ]
  },
  {
   "cell_type": "markdown",
   "id": "ed3b1f13",
   "metadata": {},
   "source": [
    "In python iterators are considered as objects, we initialze the iterator object using the iter() method and it uses next() method for iteration"
   ]
  },
  {
   "cell_type": "code",
   "execution_count": 36,
   "id": "62eaf29e",
   "metadata": {},
   "outputs": [
    {
     "name": "stdout",
     "output_type": "stream",
     "text": [
      "2\n",
      "4\n",
      "6\n",
      "8\n",
      "10\n"
     ]
    }
   ],
   "source": [
    "nums=[2,4,6,8,10,12,14,16,18,20]\n",
    "\n",
    "# ' iter ' method is used to initalize the iterator object whose name is 'it'\n",
    "it = iter(nums)\n",
    "i=0\n",
    "\n",
    "while i<5:\n",
    "    print(next(it))\n",
    "    i=i+1\n",
    "    \n",
    "    \n",
    "\n"
   ]
  },
  {
   "cell_type": "code",
   "execution_count": null,
   "id": "8794b82a",
   "metadata": {},
   "outputs": [],
   "source": []
  },
  {
   "cell_type": "code",
   "execution_count": null,
   "id": "4a1b95a4",
   "metadata": {},
   "outputs": [],
   "source": []
  },
  {
   "cell_type": "markdown",
   "id": "a2d8aa89",
   "metadata": {},
   "source": [
    "# solution (Q4)"
   ]
  },
  {
   "cell_type": "markdown",
   "id": "63c7fc4c",
   "metadata": {},
   "source": [
    " Generator function is considered as a normal function with 'yield' keyword which generate a value\n",
    " rather than 'return' keyword<br><br>\n",
    " If body of function contains yield keyword it automatically becomes generator function <br>\n",
    " Yield keyword is used to generate value from generator function"
   ]
  },
  {
   "cell_type": "code",
   "execution_count": null,
   "id": "8611cb87",
   "metadata": {},
   "outputs": [],
   "source": []
  },
  {
   "cell_type": "code",
   "execution_count": 41,
   "id": "a42890e4",
   "metadata": {
    "scrolled": true
   },
   "outputs": [
    {
     "name": "stdout",
     "output_type": "stream",
     "text": [
      "0\n",
      "1\n",
      "2\n",
      "3\n",
      "4\n"
     ]
    }
   ],
   "source": [
    "#example of generator fuction \n",
    "# data() is generator function\n",
    "\n",
    "\n",
    "def data(n):\n",
    "    value=0\n",
    "    \n",
    "    while value<n:\n",
    "        yield value\n",
    "        value=value+1\n",
    "        \n",
    "        \n",
    "for val in data(5):\n",
    "    print(val)"
   ]
  },
  {
   "cell_type": "code",
   "execution_count": null,
   "id": "622928ee",
   "metadata": {},
   "outputs": [],
   "source": []
  },
  {
   "cell_type": "code",
   "execution_count": null,
   "id": "d7424d64",
   "metadata": {},
   "outputs": [],
   "source": []
  },
  {
   "cell_type": "markdown",
   "id": "25d70e4c",
   "metadata": {},
   "source": [
    "# solution (Q5)"
   ]
  },
  {
   "cell_type": "code",
   "execution_count": 45,
   "id": "06765d7a",
   "metadata": {},
   "outputs": [
    {
     "name": "stdout",
     "output_type": "stream",
     "text": [
      "2\n",
      "3\n",
      "5\n",
      "7\n",
      "11\n",
      "13\n",
      "17\n",
      "19\n",
      "23\n",
      "29\n",
      "31\n",
      "37\n",
      "41\n",
      "43\n",
      "47\n",
      "53\n",
      "59\n",
      "61\n",
      "67\n",
      "71\n"
     ]
    }
   ],
   "source": [
    "def isprime():\n",
    "    \n",
    "    l=[]\n",
    "    \n",
    "    for num in range(2,1000):\n",
    "        for i in range(2,num):\n",
    "            if num%i==0:\n",
    "                break\n",
    "        else:\n",
    "            l.append(num)\n",
    "            yield num\n",
    "                \n",
    "        \n",
    "            \n",
    "            \n",
    "            \n",
    "data=isprime()\n",
    "\n",
    "for i in range(20):\n",
    "    print(next(data))\n",
    "        \n",
    "        \n",
    "        "
   ]
  },
  {
   "cell_type": "code",
   "execution_count": null,
   "id": "45368508",
   "metadata": {},
   "outputs": [],
   "source": []
  },
  {
   "cell_type": "code",
   "execution_count": null,
   "id": "d789bc72",
   "metadata": {},
   "outputs": [],
   "source": []
  },
  {
   "cell_type": "markdown",
   "id": "355a0c84",
   "metadata": {},
   "source": [
    "# solution (Q6)"
   ]
  },
  {
   "cell_type": "code",
   "execution_count": 47,
   "id": "b8a6bf81",
   "metadata": {},
   "outputs": [
    {
     "name": "stdout",
     "output_type": "stream",
     "text": [
      "0\n",
      "1\n",
      "1\n",
      "2\n",
      "3\n",
      "5\n",
      "8\n",
      "13\n",
      "21\n",
      "34\n"
     ]
    }
   ],
   "source": [
    "i=0\n",
    "\n",
    "a,b=0,1\n",
    "\n",
    "while i<10:\n",
    "    print(a)\n",
    "    c=a+b\n",
    "    a=b\n",
    "    b=c\n",
    "    i=i+1\n",
    "    \n",
    "    "
   ]
  },
  {
   "cell_type": "code",
   "execution_count": null,
   "id": "e81231bc",
   "metadata": {},
   "outputs": [],
   "source": []
  },
  {
   "cell_type": "code",
   "execution_count": null,
   "id": "71f5e533",
   "metadata": {},
   "outputs": [],
   "source": []
  },
  {
   "cell_type": "code",
   "execution_count": null,
   "id": "bfe828a7",
   "metadata": {},
   "outputs": [],
   "source": []
  },
  {
   "cell_type": "markdown",
   "id": "b4c31339",
   "metadata": {},
   "source": [
    "# solution (Q7)"
   ]
  },
  {
   "cell_type": "code",
   "execution_count": 48,
   "id": "6bf088c5",
   "metadata": {},
   "outputs": [
    {
     "data": {
      "text/plain": [
       "['p', 'w', 's', 'k', 'i', 'l', 'l', 's']"
      ]
     },
     "execution_count": 48,
     "metadata": {},
     "output_type": "execute_result"
    }
   ],
   "source": [
    "string=\"pwskills\"\n",
    "\n",
    "[ i for i in string]"
   ]
  },
  {
   "cell_type": "code",
   "execution_count": null,
   "id": "14c017ea",
   "metadata": {},
   "outputs": [],
   "source": []
  },
  {
   "cell_type": "code",
   "execution_count": null,
   "id": "8394b4ec",
   "metadata": {},
   "outputs": [],
   "source": []
  },
  {
   "cell_type": "markdown",
   "id": "b3a04676",
   "metadata": {},
   "source": [
    "# solution (Q8)"
   ]
  },
  {
   "cell_type": "code",
   "execution_count": 57,
   "id": "d3864123",
   "metadata": {},
   "outputs": [
    {
     "name": "stdout",
     "output_type": "stream",
     "text": [
      "enter a number: 33\n",
      "This number is a palindrome\n"
     ]
    }
   ],
   "source": [
    "num = input(\"enter a number: \")\n",
    "\n",
    "rev= int(num[::-1])\n",
    "\n",
    "if int(num)==rev:\n",
    "    print(\"This number is a palindrome\")\n",
    "else:\n",
    "    print(\"this number is not a palindrome\")\n"
   ]
  },
  {
   "cell_type": "code",
   "execution_count": 53,
   "id": "0288c434",
   "metadata": {},
   "outputs": [
    {
     "data": {
      "text/plain": [
       "int"
      ]
     },
     "execution_count": 53,
     "metadata": {},
     "output_type": "execute_result"
    }
   ],
   "source": [
    "type(rev)"
   ]
  },
  {
   "cell_type": "code",
   "execution_count": null,
   "id": "97221a58",
   "metadata": {},
   "outputs": [],
   "source": []
  },
  {
   "cell_type": "code",
   "execution_count": null,
   "id": "e559542a",
   "metadata": {},
   "outputs": [],
   "source": []
  },
  {
   "cell_type": "code",
   "execution_count": null,
   "id": "8c910718",
   "metadata": {},
   "outputs": [],
   "source": []
  },
  {
   "cell_type": "code",
   "execution_count": null,
   "id": "570ea666",
   "metadata": {},
   "outputs": [],
   "source": []
  },
  {
   "cell_type": "markdown",
   "id": "93d04c4b",
   "metadata": {},
   "source": [
    "# solution (Q9)"
   ]
  },
  {
   "cell_type": "code",
   "execution_count": 58,
   "id": "5151fea7",
   "metadata": {},
   "outputs": [],
   "source": [
    "l1=[i for i in range(1,101)]"
   ]
  },
  {
   "cell_type": "code",
   "execution_count": 65,
   "id": "80b29743",
   "metadata": {},
   "outputs": [],
   "source": [
    "l2=[i for i in l1 if i%2!=0]"
   ]
  },
  {
   "cell_type": "code",
   "execution_count": 61,
   "id": "91b10589",
   "metadata": {},
   "outputs": [
    {
     "data": {
      "text/plain": [
       "[1,\n",
       " 3,\n",
       " 5,\n",
       " 7,\n",
       " 9,\n",
       " 11,\n",
       " 13,\n",
       " 15,\n",
       " 17,\n",
       " 19,\n",
       " 21,\n",
       " 23,\n",
       " 25,\n",
       " 27,\n",
       " 29,\n",
       " 31,\n",
       " 33,\n",
       " 35,\n",
       " 37,\n",
       " 39,\n",
       " 41,\n",
       " 43,\n",
       " 45,\n",
       " 47,\n",
       " 49,\n",
       " 51,\n",
       " 53,\n",
       " 55,\n",
       " 57,\n",
       " 59,\n",
       " 61,\n",
       " 63,\n",
       " 65,\n",
       " 67,\n",
       " 69,\n",
       " 71,\n",
       " 73,\n",
       " 75,\n",
       " 77,\n",
       " 79,\n",
       " 81,\n",
       " 83,\n",
       " 85,\n",
       " 87,\n",
       " 89,\n",
       " 91,\n",
       " 93,\n",
       " 95,\n",
       " 97,\n",
       " 99]"
      ]
     },
     "execution_count": 61,
     "metadata": {},
     "output_type": "execute_result"
    }
   ],
   "source": [
    "l2"
   ]
  },
  {
   "cell_type": "code",
   "execution_count": null,
   "id": "03ab74ce",
   "metadata": {},
   "outputs": [],
   "source": []
  }
 ],
 "metadata": {
  "kernelspec": {
   "display_name": "Python 3 (ipykernel)",
   "language": "python",
   "name": "python3"
  },
  "language_info": {
   "codemirror_mode": {
    "name": "ipython",
    "version": 3
   },
   "file_extension": ".py",
   "mimetype": "text/x-python",
   "name": "python",
   "nbconvert_exporter": "python",
   "pygments_lexer": "ipython3",
   "version": "3.8.10"
  }
 },
 "nbformat": 4,
 "nbformat_minor": 5
}
