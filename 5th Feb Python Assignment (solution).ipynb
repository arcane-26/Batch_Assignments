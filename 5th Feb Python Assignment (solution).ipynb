{
 "cells": [
  {
   "cell_type": "markdown",
   "id": "44dc9a44",
   "metadata": {},
   "source": [
    "# QUESTION 1 (SOLUTION)"
   ]
  },
  {
   "cell_type": "markdown",
   "id": "ceca9dd3",
   "metadata": {},
   "source": [
    "Classes are considered as a blueprint which is designed to create object, class contains two thing\n",
    "* properties/attribute\n",
    "* methods\n",
    "\n",
    "Object is considered as a instance of the class,multiple objects can be created from one class and each object may have<br>different set attributes. Method defines the behaviour and can control the actions of object. It can also make chages\n",
    "in data of objects."
   ]
  },
  {
   "cell_type": "code",
   "execution_count": 18,
   "id": "792bf596",
   "metadata": {},
   "outputs": [],
   "source": [
    "class DataScienceMastersCourse:\n",
    "    def __init__(self,student_id,marks):\n",
    "        self.student_details=student_id\n",
    "        self.student_score=marks\n",
    "        \n",
    "        \n",
    "    def assignment_evalution(self):\n",
    "        if(self.student_score>80):\n",
    "            print(\"you will get A grade \")\n",
    "        elif(self.student_score<=80 and self.student_score>40):\n",
    "            print(\"you will get B grade \")\n",
    "        else:\n",
    "            print(\"you will get c grade \")\n",
    "        \n",
    "        "
   ]
  },
  {
   "cell_type": "code",
   "execution_count": 19,
   "id": "ddae0fce",
   "metadata": {},
   "outputs": [],
   "source": [
    "ashish=DataScienceMastersCourse(101,92)"
   ]
  },
  {
   "cell_type": "code",
   "execution_count": 20,
   "id": "a5569e7b",
   "metadata": {},
   "outputs": [
    {
     "name": "stdout",
     "output_type": "stream",
     "text": [
      "you will get A grade \n"
     ]
    }
   ],
   "source": [
    "ashish.assignment_evalution()"
   ]
  },
  {
   "cell_type": "code",
   "execution_count": 21,
   "id": "dd654562",
   "metadata": {},
   "outputs": [],
   "source": [
    "vivek=DataScienceMastersCourse(201,43)"
   ]
  },
  {
   "cell_type": "code",
   "execution_count": 22,
   "id": "bab294df",
   "metadata": {},
   "outputs": [
    {
     "name": "stdout",
     "output_type": "stream",
     "text": [
      "you will get B grade \n"
     ]
    }
   ],
   "source": [
    "vivek.assignment_evalution()"
   ]
  },
  {
   "cell_type": "code",
   "execution_count": null,
   "id": "ab08ae62",
   "metadata": {},
   "outputs": [],
   "source": []
  },
  {
   "cell_type": "code",
   "execution_count": null,
   "id": "3f3b7d43",
   "metadata": {},
   "outputs": [],
   "source": []
  },
  {
   "cell_type": "markdown",
   "id": "e2ca95e2",
   "metadata": {},
   "source": [
    "# QUESTION 2 (SOLUTION)"
   ]
  },
  {
   "cell_type": "markdown",
   "id": "1c7e0bed",
   "metadata": {},
   "source": [
    "* Inheritance\n",
    "* Abstraction\n",
    "* Polymorphism\n",
    "* Encapsulation"
   ]
  },
  {
   "cell_type": "code",
   "execution_count": null,
   "id": "10d313ab",
   "metadata": {},
   "outputs": [],
   "source": []
  },
  {
   "cell_type": "code",
   "execution_count": null,
   "id": "fd4f7058",
   "metadata": {},
   "outputs": [],
   "source": []
  },
  {
   "cell_type": "markdown",
   "id": "ba029b6a",
   "metadata": {},
   "source": [
    "# QUESTION 3 (SOLUTION)"
   ]
  },
  {
   "cell_type": "markdown",
   "id": "1741819c",
   "metadata": {},
   "source": [
    "__ init__() fuction is called as a constructor fuction, it is default fuction which has to be in every class which we<br> create and the main work of this function is that when we create an object of a class the constructor function is<br> automatically called"
   ]
  },
  {
   "cell_type": "code",
   "execution_count": 30,
   "id": "bd6197e2",
   "metadata": {},
   "outputs": [],
   "source": [
    "class MyAim():\n",
    "    def __init__(self):\n",
    "        print(\"My aim is to become a Data Scientist\")"
   ]
  },
  {
   "cell_type": "code",
   "execution_count": 32,
   "id": "5ee1602d",
   "metadata": {},
   "outputs": [
    {
     "name": "stdout",
     "output_type": "stream",
     "text": [
      "My aim is to become a Data Scientist\n"
     ]
    }
   ],
   "source": [
    "a=MyAim()"
   ]
  },
  {
   "cell_type": "code",
   "execution_count": 33,
   "id": "8c1a7fe2",
   "metadata": {},
   "outputs": [],
   "source": [
    "# we can see that as we created object 'a', constructor function is automatically called"
   ]
  },
  {
   "cell_type": "code",
   "execution_count": null,
   "id": "a16c6751",
   "metadata": {},
   "outputs": [],
   "source": []
  },
  {
   "cell_type": "code",
   "execution_count": null,
   "id": "58f6bb7b",
   "metadata": {},
   "outputs": [],
   "source": []
  },
  {
   "cell_type": "code",
   "execution_count": null,
   "id": "068ae8c8",
   "metadata": {},
   "outputs": [],
   "source": []
  },
  {
   "cell_type": "markdown",
   "id": "818ec9bf",
   "metadata": {},
   "source": [
    "# QUESTION 4 (SOLUTION)"
   ]
  },
  {
   "cell_type": "markdown",
   "id": "ca03a3c1",
   "metadata": {},
   "source": [
    " In Object Oriented Programming 'self' keyword is used as an \"instance for the object\" to access the attributes and methods<br> of the class. It is mandatory that an instance for the object should be pass as a parameter inside every method or we can also say every member fuction that <br> is present in the class."
   ]
  },
  {
   "cell_type": "code",
   "execution_count": null,
   "id": "8a1a277d",
   "metadata": {},
   "outputs": [],
   "source": []
  },
  {
   "cell_type": "code",
   "execution_count": null,
   "id": "e32018ac",
   "metadata": {},
   "outputs": [],
   "source": []
  },
  {
   "cell_type": "code",
   "execution_count": null,
   "id": "76e003b5",
   "metadata": {},
   "outputs": [],
   "source": []
  },
  {
   "cell_type": "markdown",
   "id": "b5afa5ab",
   "metadata": {},
   "source": [
    "# QUESTION 5 (SOLUTION)"
   ]
  },
  {
   "cell_type": "markdown",
   "id": "94c33536",
   "metadata": {},
   "source": [
    "Inheritance allows the object of a class to inherit the properties of the object of parent class<br>Inheritance increases code reuseability\n",
    "\n",
    "\"__Different types of Inheritence__\"\n",
    "\n",
    "Multiple inheritance: where a class inherits from multiple base classes.\n",
    "\n",
    "Multi-level inheritance: where a class inherits from a base class, which itself inherits from another base class.\n",
    "\n",
    "Hierarchical inheritance: where multiple classes inherit from a single base class.\n",
    "\n",
    "Hybrid inheritance: a combination of multiple inheritance types."
   ]
  },
  {
   "cell_type": "code",
   "execution_count": null,
   "id": "d093e717",
   "metadata": {},
   "outputs": [],
   "source": []
  },
  {
   "cell_type": "code",
   "execution_count": null,
   "id": "398063d3",
   "metadata": {},
   "outputs": [],
   "source": []
  },
  {
   "cell_type": "code",
   "execution_count": null,
   "id": "4bdbb342",
   "metadata": {},
   "outputs": [],
   "source": []
  },
  {
   "cell_type": "code",
   "execution_count": null,
   "id": "ce5b1934",
   "metadata": {},
   "outputs": [],
   "source": []
  },
  {
   "cell_type": "code",
   "execution_count": null,
   "id": "b812d04a",
   "metadata": {},
   "outputs": [],
   "source": []
  },
  {
   "cell_type": "code",
   "execution_count": null,
   "id": "2644b5f4",
   "metadata": {},
   "outputs": [],
   "source": []
  },
  {
   "cell_type": "code",
   "execution_count": null,
   "id": "e9442e04",
   "metadata": {},
   "outputs": [],
   "source": []
  },
  {
   "cell_type": "code",
   "execution_count": null,
   "id": "65e5a80d",
   "metadata": {},
   "outputs": [],
   "source": []
  },
  {
   "cell_type": "code",
   "execution_count": null,
   "id": "1a3f39d3",
   "metadata": {},
   "outputs": [],
   "source": []
  },
  {
   "cell_type": "code",
   "execution_count": null,
   "id": "0aa7fae6",
   "metadata": {},
   "outputs": [],
   "source": []
  }
 ],
 "metadata": {
  "kernelspec": {
   "display_name": "Python 3 (ipykernel)",
   "language": "python",
   "name": "python3"
  },
  "language_info": {
   "codemirror_mode": {
    "name": "ipython",
    "version": 3
   },
   "file_extension": ".py",
   "mimetype": "text/x-python",
   "name": "python",
   "nbconvert_exporter": "python",
   "pygments_lexer": "ipython3",
   "version": "3.8.10"
  }
 },
 "nbformat": 4,
 "nbformat_minor": 5
}
