{
 "cells": [
  {
   "cell_type": "markdown",
   "id": "12100c76",
   "metadata": {},
   "source": [
    "<font color=\"blue\">1. Who developed Python Programming Language?</font><br><br>\n",
    "<font color=\"red\">Solution:</font><br>\n",
    "In late 1980s a dutch programmer named \"Guido van Rossum\" started working on python as a successor<br>\n",
    "ABC programming language. The first version i.e. \"Python 0.9.0.\" was relesed in the year 1991"
   ]
  },
  {
   "cell_type": "code",
   "execution_count": null,
   "id": "2b38ce62",
   "metadata": {},
   "outputs": [],
   "source": []
  },
  {
   "cell_type": "code",
   "execution_count": null,
   "id": "84295aaa",
   "metadata": {},
   "outputs": [],
   "source": []
  },
  {
   "cell_type": "markdown",
   "id": "420019c9",
   "metadata": {},
   "source": [
    "<font color=\"blue\">2. Which type of Programming does Python support?</font><br><br>\n",
    "<font color=\"red\">Solution:</font><br>\n",
    "Procedural,Object-oriented and Functional programming"
   ]
  },
  {
   "cell_type": "code",
   "execution_count": null,
   "id": "53dc7603",
   "metadata": {},
   "outputs": [],
   "source": []
  },
  {
   "cell_type": "code",
   "execution_count": null,
   "id": "2d703edf",
   "metadata": {},
   "outputs": [],
   "source": []
  },
  {
   "cell_type": "markdown",
   "id": "0efa5dff",
   "metadata": {},
   "source": [
    "<font color=\"blue\">3. Is Python case sensitive when dealing with identifiers?</font><br><br>\n",
    "<font color=\"red\">Solution:</font><br>\n",
    "Yes"
   ]
  },
  {
   "cell_type": "code",
   "execution_count": null,
   "id": "28e23e14",
   "metadata": {},
   "outputs": [],
   "source": []
  },
  {
   "cell_type": "code",
   "execution_count": null,
   "id": "0236518c",
   "metadata": {},
   "outputs": [],
   "source": []
  },
  {
   "cell_type": "markdown",
   "id": "d42f3f35",
   "metadata": {},
   "source": [
    "<font color=\"blue\">4. What is the correct extension of the Python file?</font><br><br>\n",
    "<font color=\"red\">Solution:</font><br>\n",
    ".py"
   ]
  },
  {
   "cell_type": "code",
   "execution_count": null,
   "id": "d0814446",
   "metadata": {},
   "outputs": [],
   "source": []
  },
  {
   "cell_type": "code",
   "execution_count": null,
   "id": "77c0b796",
   "metadata": {},
   "outputs": [],
   "source": []
  },
  {
   "cell_type": "markdown",
   "id": "39cb3ba5",
   "metadata": {},
   "source": [
    "<font color=\"blue\">5. Is Python code compiled or interpreted?</font><br><br>\n",
    "<font color=\"red\">Solution:</font><br>\n",
    "Python code is interpreted."
   ]
  },
  {
   "cell_type": "code",
   "execution_count": null,
   "id": "67817d01",
   "metadata": {},
   "outputs": [],
   "source": []
  },
  {
   "cell_type": "code",
   "execution_count": null,
   "id": "b5c01812",
   "metadata": {},
   "outputs": [],
   "source": []
  },
  {
   "cell_type": "markdown",
   "id": "bc046de2",
   "metadata": {},
   "source": [
    "<font color=\"blue\">6. Name a few blocks of code used to define in Python language?</font><br><br>\n",
    "<font color=\"red\">Solution:</font><br>\n",
    "1.If<br>\n",
    "2.elif<br>\n",
    "3.else\n"
   ]
  },
  {
   "cell_type": "code",
   "execution_count": null,
   "id": "ffe6d148",
   "metadata": {},
   "outputs": [],
   "source": []
  },
  {
   "cell_type": "code",
   "execution_count": null,
   "id": "1d52c277",
   "metadata": {},
   "outputs": [],
   "source": []
  },
  {
   "cell_type": "markdown",
   "id": "c0c4f15f",
   "metadata": {},
   "source": [
    "<font color=\"blue\">7. State a character used to give single-line comments in Python?</font><br><br>\n",
    "<font color=\"red\">Solution:</font><br>\n",
    "#"
   ]
  },
  {
   "cell_type": "code",
   "execution_count": null,
   "id": "5e5a2a0f",
   "metadata": {},
   "outputs": [],
   "source": []
  },
  {
   "cell_type": "markdown",
   "id": "365a10ee",
   "metadata": {},
   "source": [
    "<font color=\"blue\">8. Mention functions which can help us to find the version of python that we are currently working on?</font><br><br>\n",
    "<font color=\"red\">Solution:</font><br>"
   ]
  },
  {
   "cell_type": "code",
   "execution_count": 9,
   "id": "bff2d429",
   "metadata": {},
   "outputs": [
    {
     "name": "stdout",
     "output_type": "stream",
     "text": [
      "Current Python Version- 3.8.10\n"
     ]
    }
   ],
   "source": [
    "from platform import python_version\n",
    "\n",
    "\n",
    "print(\"Current Python Version-\", python_version())"
   ]
  },
  {
   "cell_type": "code",
   "execution_count": null,
   "id": "dcca35be",
   "metadata": {},
   "outputs": [],
   "source": []
  },
  {
   "cell_type": "code",
   "execution_count": null,
   "id": "3f8c035b",
   "metadata": {},
   "outputs": [],
   "source": []
  },
  {
   "cell_type": "code",
   "execution_count": null,
   "id": "e87a7986",
   "metadata": {},
   "outputs": [],
   "source": []
  },
  {
   "cell_type": "markdown",
   "id": "d6f0d413",
   "metadata": {},
   "source": [
    "<font color=\"blue\">9. Python supports the creation of anonymous functions at runtime, using a construct called_______</font><br><br>\n",
    "<font color=\"red\">Solution:</font><br>\n",
    "lambda"
   ]
  },
  {
   "cell_type": "code",
   "execution_count": null,
   "id": "97a09c98",
   "metadata": {},
   "outputs": [],
   "source": []
  },
  {
   "cell_type": "code",
   "execution_count": null,
   "id": "e740ef1d",
   "metadata": {},
   "outputs": [],
   "source": []
  },
  {
   "cell_type": "markdown",
   "id": "d485a696",
   "metadata": {},
   "source": [
    "<font color=\"blue\">10. What does pip stand for python?</font><br><br>\n",
    "<font color=\"red\">Solution:</font><br>\n",
    "preferred installer program"
   ]
  },
  {
   "cell_type": "code",
   "execution_count": null,
   "id": "4ed5d5cc",
   "metadata": {},
   "outputs": [],
   "source": []
  },
  {
   "cell_type": "code",
   "execution_count": null,
   "id": "61f46c94",
   "metadata": {},
   "outputs": [],
   "source": []
  },
  {
   "cell_type": "markdown",
   "id": "f668d6e0",
   "metadata": {},
   "source": [
    "<font color=\"blue\">11. Mention a few built-in functions in python?</font><br><br>\n",
    "<font color=\"red\">Solution:</font><br>\n",
    "1.len()<br>\n",
    "2.type()<br>\n",
    "3.print()<br>\n",
    "4.int()<br>\n",
    "5.float()<br>\n",
    "6.str()<br>"
   ]
  },
  {
   "cell_type": "code",
   "execution_count": null,
   "id": "0608683e",
   "metadata": {},
   "outputs": [],
   "source": []
  },
  {
   "cell_type": "code",
   "execution_count": null,
   "id": "fe7bb193",
   "metadata": {},
   "outputs": [],
   "source": []
  },
  {
   "cell_type": "markdown",
   "id": "0b71bf03",
   "metadata": {},
   "source": [
    "<font color=\"blue\">12. What is the maximum possible length of an identifier in Python?</font><br><br>\n",
    "<font color=\"red\">Solution:</font><br>\n",
    "79 characters"
   ]
  },
  {
   "cell_type": "code",
   "execution_count": null,
   "id": "55f59ff7",
   "metadata": {},
   "outputs": [],
   "source": []
  },
  {
   "cell_type": "code",
   "execution_count": null,
   "id": "2a72a1e5",
   "metadata": {},
   "outputs": [],
   "source": []
  },
  {
   "cell_type": "markdown",
   "id": "5e9f301e",
   "metadata": {},
   "source": [
    "<font color=\"blue\">13. What are the benefits of using Python?</font><br><br>\n",
    "<font color=\"red\">Solution:</font><br>\n",
    "benifits of learning Python<br>\n",
    "- Easy to learn<br>\n",
    "- fast code development speed<br>\n",
    "- It is interpreted language which makes it very fast to execute, whereas other languages like c++ takes time for compilation and then execute the program<br>\n",
    "- python has various libraries<br>\n",
    "- it gives us various job oppurtinites<br>\n",
    "- heavily used in Data Science domain"
   ]
  },
  {
   "cell_type": "code",
   "execution_count": null,
   "id": "7aa2dd09",
   "metadata": {},
   "outputs": [],
   "source": []
  },
  {
   "cell_type": "code",
   "execution_count": null,
   "id": "8a1a38bd",
   "metadata": {},
   "outputs": [],
   "source": []
  },
  {
   "cell_type": "markdown",
   "id": "70117298",
   "metadata": {},
   "source": [
    "<font color=\"blue\">14. How is memory managed in Python?</font><br><br>\n",
    "<font color=\"red\">Solution:</font><br>\n",
    "Memory is managed in python by garbage collection and reference counting\n",
    "- Garbage collection is a process in which the interpreter frees up the memory when not in use to make it available for other objects.\n",
    "- Reference counting works by counting the number of times an object is referenced by other objects in the system. When references to an object are removed, the reference count for an object is decremented. When the reference count becomes zero, the object is deallocated."
   ]
  },
  {
   "cell_type": "code",
   "execution_count": null,
   "id": "b123b106",
   "metadata": {},
   "outputs": [],
   "source": []
  },
  {
   "cell_type": "code",
   "execution_count": null,
   "id": "68551ebc",
   "metadata": {},
   "outputs": [],
   "source": []
  },
  {
   "cell_type": "markdown",
   "id": "9bdaa9b0",
   "metadata": {},
   "source": [
    "<font color=\"blue\">15. How to install Python on Windows and set path variables?</font><br><br>\n",
    "<font color=\"red\">Solution:</font><br>\n",
    "- First we have to visit website www.python.org, where we can download latest version of python installer on our operating system (either 32bit or 64bit)\n",
    "- Now we have to launch the python installer and then install python\n",
    "- Now we have to open envirvironment variable and in system variable column click on path and then edit button\n",
    "- Now a new window will open where we have click on new path and past the path of the python.exe and we also have to add path of scripts folder"
   ]
  },
  {
   "cell_type": "code",
   "execution_count": null,
   "id": "3eb15e9b",
   "metadata": {},
   "outputs": [],
   "source": []
  },
  {
   "cell_type": "code",
   "execution_count": null,
   "id": "00eba747",
   "metadata": {},
   "outputs": [],
   "source": []
  },
  {
   "cell_type": "markdown",
   "id": "428bdad1",
   "metadata": {},
   "source": [
    "<font color=\"blue\">16. Is indentation required in python?</font><br><br>\n",
    "<font color=\"red\">Solution:</font><br>\n",
    "yes"
   ]
  },
  {
   "cell_type": "code",
   "execution_count": null,
   "id": "d3da0e19",
   "metadata": {},
   "outputs": [],
   "source": []
  },
  {
   "cell_type": "code",
   "execution_count": null,
   "id": "947e438a",
   "metadata": {},
   "outputs": [],
   "source": []
  }
 ],
 "metadata": {
  "kernelspec": {
   "display_name": "Python 3 (ipykernel)",
   "language": "python",
   "name": "python3"
  },
  "language_info": {
   "codemirror_mode": {
    "name": "ipython",
    "version": 3
   },
   "file_extension": ".py",
   "mimetype": "text/x-python",
   "name": "python",
   "nbconvert_exporter": "python",
   "pygments_lexer": "ipython3",
   "version": "3.8.10"
  }
 },
 "nbformat": 4,
 "nbformat_minor": 5
}
