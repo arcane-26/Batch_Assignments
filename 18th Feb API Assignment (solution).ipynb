{
 "cells": [
  {
   "cell_type": "markdown",
   "id": "14471404",
   "metadata": {},
   "source": [
    "# QUESTION 1 (SOLUTION)"
   ]
  },
  {
   "cell_type": "markdown",
   "id": "615c1a42",
   "metadata": {},
   "source": [
    "API stands for application progaramming interface is a set of protocal and tools for bulding software applications.An API specifies how software components should interact and simplifies programming by providing building blocks for developers.\n",
    "\n",
    "To give an example, many popular online services provide APIs that allow developers to integrate their services into their own applications. For instance, Facebook provides an API that allows developers to access user data, post content, and interact with the social graph. Developers can use this API to build applications that integrate with Facebook's platform, such as games or social media management tools."
   ]
  },
  {
   "cell_type": "code",
   "execution_count": null,
   "id": "d4a322ea",
   "metadata": {},
   "outputs": [],
   "source": []
  },
  {
   "cell_type": "markdown",
   "id": "1ad827e0",
   "metadata": {},
   "source": [
    "# QUESTION 2 (SOLUTION)"
   ]
  },
  {
   "cell_type": "markdown",
   "id": "80d183b9",
   "metadata": {},
   "source": [
    "Advantages of using APIs:\n",
    "\n",
    "Time-saving: Using APIs, developers can leverage pre-existing functionality, libraries, and features, which saves time and effort in building an application from scratch.\n",
    "\n",
    "Flexibility: APIs allow developers to work with a variety of different tools and platforms, which makes it easier to build software that can work across a range of different environments.\n",
    "\n",
    "Cost-effective: APIs can be used to build software with lower costs as there is no need to reinvent the wheel, you can use existing software solutions to integrate with your product.\n",
    "\n",
    "Integration: APIs allow seamless integration with other software applications, making it possible to extend the capabilities of existing applications and services.\n",
    "\n",
    "Scalability: APIs are scalable, which means that they can handle a large number of requests, allowing businesses to grow and evolve without worrying about the limits of their systems.\n",
    "\n",
    "\n",
    "\n",
    "Disadvantages of using APIs:\n",
    "\n",
    "Complexity: APIs can be complex, requiring developers to have a deep understanding of the programming language, protocols, and libraries they are working with.\n",
    "\n",
    "Maintenance: API providers need to keep their API documentation up-to-date and ensure compatibility with newer technologies, requiring ongoing maintenance efforts.\n",
    "\n",
    "Security: If an API is not properly secured, it can lead to security vulnerabilities in the application that uses it.\n",
    "\n",
    "Reliance on third parties: When using APIs from third-party providers, developers are relying on the continued availability and support of those APIs, which can be a risk.\n",
    "\n",
    "Quality: The quality of the API documentation, support, and reliability can vary from provider to provider, which can lead to frustration and delays for developers who rely on them."
   ]
  },
  {
   "cell_type": "code",
   "execution_count": null,
   "id": "cfd61bf2",
   "metadata": {},
   "outputs": [],
   "source": []
  },
  {
   "cell_type": "markdown",
   "id": "7fb50842",
   "metadata": {},
   "source": [
    "# QUESTION 3 (SOLUTION)"
   ]
  },
  {
   "cell_type": "markdown",
   "id": "165a4524",
   "metadata": {},
   "source": [
    "A Web API (Application Programming Interface) is an interface that enables communication between different software systems over the web. It provides a way for developers to access the functionality and data of a web application programmatically, allowing them to build new applications or integrate existing ones with the web application.\n",
    "\n",
    "An API, on the other hand, is a more general term that refers to any interface that allows two software systems to communicate with each other. APIs can take various forms, such as libraries, toolkits, or frameworks, and they can be used in different contexts, such as desktop, mobile, or web applications.\n",
    "\n",
    "The main difference between an API and a Web API is that a Web API is specifically designed to be accessed over the web using standard web protocols such as HTTP and HTTPS. This makes Web APIs more accessible and easier to use than other types of APIs, as developers can access them using any programming language that supports HTTP requests."
   ]
  },
  {
   "cell_type": "code",
   "execution_count": null,
   "id": "e28930a5",
   "metadata": {},
   "outputs": [],
   "source": []
  },
  {
   "cell_type": "markdown",
   "id": "b3bdeac2",
   "metadata": {},
   "source": [
    "# QUESTION 4 (SOLUTION)"
   ]
  },
  {
   "cell_type": "markdown",
   "id": "7522c086",
   "metadata": {},
   "source": [
    "REST (Representational State Transfer) and SOAP (Simple Object Access Protocol) are two common architectural styles for web services.\n",
    "\n",
    "REST is a style of architecture that is based on the HTTP protocol, and it uses standard HTTP verbs such as GET, POST, PUT, and DELETE to represent operations on resources. RESTful web services typically use JSON or XML for data exchange, and they are designed to be stateless, meaning that each request is self-contained and contains all the information necessary to complete the request.\n",
    "\n",
    "SOAP, on the other hand, is a protocol that uses XML for data exchange, and it typically uses HTTP or other transport protocols for message transmission. SOAP web services are designed to be more structured and secure than RESTful web services, and they often require more complex configuration.\n",
    "\n",
    "One of the main shortcomings of SOAP is its complexity. Because it is a protocol rather than an architecture, it requires more configuration and maintenance than RESTful web services. "
   ]
  },
  {
   "cell_type": "code",
   "execution_count": null,
   "id": "664d54f5",
   "metadata": {},
   "outputs": [],
   "source": []
  },
  {
   "cell_type": "markdown",
   "id": "d9e4cf13",
   "metadata": {},
   "source": [
    "# QUESTION 5 (SOLUTION)"
   ]
  },
  {
   "cell_type": "markdown",
   "id": "938467f9",
   "metadata": {},
   "source": [
    "REST (Representational State Transfer) and SOAP (Simple Object Access Protocol) are two popular web service architectures that are used to enable communication between different systems or applications.\n",
    "\n",
    "Here are the main differences between the two:\n",
    "\n",
    "Architecture: REST is an architectural style for building web services that use HTTP protocols, whereas SOAP is a protocol that uses XML as a format to exchange information between different systems.\n",
    "\n",
    "Communication style: REST is based on a client-server communication model and works through a stateless, cacheable communication protocol. On the other hand, SOAP works on a message-based communication model where the messages are in XML format.\n",
    "\n",
    "Ease of use: REST is easier to use than SOAP as it has a simpler and more straightforward architecture. It uses standard HTTP methods (such as GET, POST, PUT, DELETE) for operations and has better support for multiple data formats (e.g., JSON, XML, etc.). SOAP, on the other hand, requires more effort and complexity to set up, as it needs additional middleware components for handling the SOAP messages.\n",
    "\n",
    "Performance: REST is considered to be faster and more efficient than SOAP due to its lightweight nature and the use of caching. On the other hand, SOAP is more secure and provides better support for error handling and data validation."
   ]
  },
  {
   "cell_type": "code",
   "execution_count": null,
   "id": "98e90521",
   "metadata": {},
   "outputs": [],
   "source": []
  },
  {
   "cell_type": "code",
   "execution_count": null,
   "id": "2a97db67",
   "metadata": {},
   "outputs": [],
   "source": []
  },
  {
   "cell_type": "code",
   "execution_count": null,
   "id": "7df9cdc1",
   "metadata": {},
   "outputs": [],
   "source": []
  },
  {
   "cell_type": "code",
   "execution_count": null,
   "id": "2caed7f3",
   "metadata": {},
   "outputs": [],
   "source": []
  },
  {
   "cell_type": "code",
   "execution_count": null,
   "id": "6e597218",
   "metadata": {},
   "outputs": [],
   "source": []
  },
  {
   "cell_type": "code",
   "execution_count": null,
   "id": "e207abd4",
   "metadata": {},
   "outputs": [],
   "source": []
  },
  {
   "cell_type": "code",
   "execution_count": null,
   "id": "c58c4c67",
   "metadata": {},
   "outputs": [],
   "source": []
  },
  {
   "cell_type": "code",
   "execution_count": null,
   "id": "68381042",
   "metadata": {},
   "outputs": [],
   "source": []
  },
  {
   "cell_type": "code",
   "execution_count": null,
   "id": "cf4045e2",
   "metadata": {},
   "outputs": [],
   "source": []
  },
  {
   "cell_type": "code",
   "execution_count": null,
   "id": "7953eb68",
   "metadata": {},
   "outputs": [],
   "source": []
  },
  {
   "cell_type": "code",
   "execution_count": null,
   "id": "85275161",
   "metadata": {},
   "outputs": [],
   "source": []
  },
  {
   "cell_type": "code",
   "execution_count": null,
   "id": "ecc0c08c",
   "metadata": {},
   "outputs": [],
   "source": []
  },
  {
   "cell_type": "code",
   "execution_count": null,
   "id": "fc139da8",
   "metadata": {},
   "outputs": [],
   "source": []
  },
  {
   "cell_type": "code",
   "execution_count": null,
   "id": "33917920",
   "metadata": {},
   "outputs": [],
   "source": []
  },
  {
   "cell_type": "code",
   "execution_count": null,
   "id": "c977b3a5",
   "metadata": {},
   "outputs": [],
   "source": []
  },
  {
   "cell_type": "code",
   "execution_count": null,
   "id": "a8cd0b8d",
   "metadata": {},
   "outputs": [],
   "source": []
  },
  {
   "cell_type": "code",
   "execution_count": null,
   "id": "c94fbafa",
   "metadata": {},
   "outputs": [],
   "source": []
  },
  {
   "cell_type": "code",
   "execution_count": null,
   "id": "7ac4a356",
   "metadata": {},
   "outputs": [],
   "source": []
  },
  {
   "cell_type": "code",
   "execution_count": null,
   "id": "4332a790",
   "metadata": {},
   "outputs": [],
   "source": []
  },
  {
   "cell_type": "code",
   "execution_count": null,
   "id": "ad479428",
   "metadata": {},
   "outputs": [],
   "source": []
  },
  {
   "cell_type": "code",
   "execution_count": null,
   "id": "5ed1a030",
   "metadata": {},
   "outputs": [],
   "source": []
  },
  {
   "cell_type": "code",
   "execution_count": null,
   "id": "9f0fe5a7",
   "metadata": {},
   "outputs": [],
   "source": []
  },
  {
   "cell_type": "code",
   "execution_count": null,
   "id": "9fad31b8",
   "metadata": {},
   "outputs": [],
   "source": []
  },
  {
   "cell_type": "code",
   "execution_count": null,
   "id": "7e2fb5e2",
   "metadata": {},
   "outputs": [],
   "source": []
  },
  {
   "cell_type": "code",
   "execution_count": null,
   "id": "73e1592f",
   "metadata": {},
   "outputs": [],
   "source": []
  },
  {
   "cell_type": "code",
   "execution_count": null,
   "id": "37a8cfd0",
   "metadata": {},
   "outputs": [],
   "source": []
  },
  {
   "cell_type": "code",
   "execution_count": null,
   "id": "62a1ebfa",
   "metadata": {},
   "outputs": [],
   "source": []
  },
  {
   "cell_type": "code",
   "execution_count": null,
   "id": "7bb101c9",
   "metadata": {},
   "outputs": [],
   "source": []
  },
  {
   "cell_type": "code",
   "execution_count": null,
   "id": "8b483715",
   "metadata": {},
   "outputs": [],
   "source": []
  },
  {
   "cell_type": "code",
   "execution_count": null,
   "id": "8cc22c47",
   "metadata": {},
   "outputs": [],
   "source": []
  },
  {
   "cell_type": "code",
   "execution_count": null,
   "id": "9b92e84e",
   "metadata": {},
   "outputs": [],
   "source": []
  },
  {
   "cell_type": "code",
   "execution_count": null,
   "id": "d0f62906",
   "metadata": {},
   "outputs": [],
   "source": []
  },
  {
   "cell_type": "code",
   "execution_count": null,
   "id": "f1b28d24",
   "metadata": {},
   "outputs": [],
   "source": []
  },
  {
   "cell_type": "code",
   "execution_count": null,
   "id": "8f76e64b",
   "metadata": {},
   "outputs": [],
   "source": []
  },
  {
   "cell_type": "code",
   "execution_count": null,
   "id": "6130d654",
   "metadata": {},
   "outputs": [],
   "source": []
  },
  {
   "cell_type": "code",
   "execution_count": null,
   "id": "2299e4be",
   "metadata": {},
   "outputs": [],
   "source": []
  },
  {
   "cell_type": "code",
   "execution_count": null,
   "id": "76d149b7",
   "metadata": {},
   "outputs": [],
   "source": []
  },
  {
   "cell_type": "code",
   "execution_count": null,
   "id": "53c5b45a",
   "metadata": {},
   "outputs": [],
   "source": []
  },
  {
   "cell_type": "code",
   "execution_count": null,
   "id": "8fcc984c",
   "metadata": {},
   "outputs": [],
   "source": []
  },
  {
   "cell_type": "code",
   "execution_count": null,
   "id": "ddab38fd",
   "metadata": {},
   "outputs": [],
   "source": []
  },
  {
   "cell_type": "code",
   "execution_count": null,
   "id": "aabc9088",
   "metadata": {},
   "outputs": [],
   "source": []
  },
  {
   "cell_type": "code",
   "execution_count": null,
   "id": "211523e3",
   "metadata": {},
   "outputs": [],
   "source": []
  },
  {
   "cell_type": "code",
   "execution_count": null,
   "id": "805630ae",
   "metadata": {},
   "outputs": [],
   "source": []
  },
  {
   "cell_type": "code",
   "execution_count": null,
   "id": "0c1ebbd3",
   "metadata": {},
   "outputs": [],
   "source": []
  },
  {
   "cell_type": "code",
   "execution_count": null,
   "id": "41f544d3",
   "metadata": {},
   "outputs": [],
   "source": []
  },
  {
   "cell_type": "code",
   "execution_count": null,
   "id": "52861972",
   "metadata": {},
   "outputs": [],
   "source": []
  },
  {
   "cell_type": "code",
   "execution_count": null,
   "id": "a84b8d68",
   "metadata": {},
   "outputs": [],
   "source": []
  },
  {
   "cell_type": "code",
   "execution_count": null,
   "id": "f260a77d",
   "metadata": {},
   "outputs": [],
   "source": []
  },
  {
   "cell_type": "code",
   "execution_count": null,
   "id": "7dd6039f",
   "metadata": {},
   "outputs": [],
   "source": []
  },
  {
   "cell_type": "code",
   "execution_count": null,
   "id": "7ed86ca6",
   "metadata": {},
   "outputs": [],
   "source": []
  },
  {
   "cell_type": "code",
   "execution_count": null,
   "id": "49fb4620",
   "metadata": {},
   "outputs": [],
   "source": []
  },
  {
   "cell_type": "code",
   "execution_count": null,
   "id": "8fe9d689",
   "metadata": {},
   "outputs": [],
   "source": []
  },
  {
   "cell_type": "code",
   "execution_count": null,
   "id": "2c0c9616",
   "metadata": {},
   "outputs": [],
   "source": []
  },
  {
   "cell_type": "code",
   "execution_count": null,
   "id": "a294a42a",
   "metadata": {},
   "outputs": [],
   "source": []
  },
  {
   "cell_type": "code",
   "execution_count": null,
   "id": "840a48b2",
   "metadata": {},
   "outputs": [],
   "source": []
  }
 ],
 "metadata": {
  "kernelspec": {
   "display_name": "Python 3 (ipykernel)",
   "language": "python",
   "name": "python3"
  },
  "language_info": {
   "codemirror_mode": {
    "name": "ipython",
    "version": 3
   },
   "file_extension": ".py",
   "mimetype": "text/x-python",
   "name": "python",
   "nbconvert_exporter": "python",
   "pygments_lexer": "ipython3",
   "version": "3.8.10"
  }
 },
 "nbformat": 4,
 "nbformat_minor": 5
}
