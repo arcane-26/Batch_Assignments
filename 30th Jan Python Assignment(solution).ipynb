{
 "cells": [
  {
   "cell_type": "code",
   "execution_count": 9,
   "id": "b172072d",
   "metadata": {},
   "outputs": [
    {
     "name": "stdout",
     "output_type": "stream",
     "text": [
      "Enter your percentage(%): 59\n",
      "Grade : D\n"
     ]
    }
   ],
   "source": [
    "# solution of Question 1\n",
    "\n",
    "percentage=int(input(\"Enter your percentage(%): \"))\n",
    "\n",
    "if percentage>90:\n",
    "    print('Grade : A')\n",
    "elif percentage>80 and percentage<=90:\n",
    "    print('Grade : B')\n",
    "elif percentage>=60 and percentage<=80:\n",
    "    print('Grade : C')\n",
    "elif percentage<60:\n",
    "    print('Grade : D')\n",
    "        "
   ]
  },
  {
   "cell_type": "code",
   "execution_count": null,
   "id": "9dc0194a",
   "metadata": {},
   "outputs": [],
   "source": []
  },
  {
   "cell_type": "code",
   "execution_count": null,
   "id": "05fd910e",
   "metadata": {},
   "outputs": [],
   "source": []
  },
  {
   "cell_type": "code",
   "execution_count": 11,
   "id": "5d1f1b4d",
   "metadata": {},
   "outputs": [
    {
     "name": "stdout",
     "output_type": "stream",
     "text": [
      "Enter cost price(in Rs.) : 49000\n",
      "Road Tax to be paid : 5%\n"
     ]
    }
   ],
   "source": [
    "# solution of Question 2\n",
    "\n",
    "\n",
    "cost_price=int(input(\"Enter cost price(in Rs.) : \"))\n",
    "\n",
    "if cost_price>100000:\n",
    "    print(\"Road Tax to be paid : 15%\")\n",
    "elif cost_price>50000 and cost_price<=100000:\n",
    "    print(\"Road Tax to be paid : 10%\")\n",
    "elif cost_price<=50000:\n",
    "    print(\"Road Tax to be paid : 5%\")"
   ]
  },
  {
   "cell_type": "code",
   "execution_count": null,
   "id": "ec76b221",
   "metadata": {},
   "outputs": [],
   "source": []
  },
  {
   "cell_type": "code",
   "execution_count": null,
   "id": "3f90e5ab",
   "metadata": {},
   "outputs": [],
   "source": []
  },
  {
   "cell_type": "code",
   "execution_count": 18,
   "id": "fffd0642",
   "metadata": {},
   "outputs": [
    {
     "name": "stdout",
     "output_type": "stream",
     "text": [
      "Enter City name: Jaipur\n",
      "Monument : Jal Mahal\n"
     ]
    }
   ],
   "source": [
    "# Solution of Question 3\n",
    "city=input(\"Enter City name: \")\n",
    "\n",
    "if city==\"Delhi\":\n",
    "    print(\"Monument : Red Fort\")\n",
    "elif city==\"Agra\":\n",
    "    print(\"Monument : Taj Mahal\")\n",
    "elif city==\"Jaipur\":\n",
    "    print(\"Monument : Jal Mahal\")\n",
    "\n"
   ]
  },
  {
   "cell_type": "code",
   "execution_count": null,
   "id": "86095c40",
   "metadata": {},
   "outputs": [],
   "source": []
  },
  {
   "cell_type": "code",
   "execution_count": null,
   "id": "d746327b",
   "metadata": {},
   "outputs": [],
   "source": []
  },
  {
   "cell_type": "code",
   "execution_count": 9,
   "id": "5ee66771",
   "metadata": {},
   "outputs": [
    {
     "name": "stdout",
     "output_type": "stream",
     "text": [
      "enter a number : 45\n",
      " The given number is divisble by 3 ---- 2 times before it is less than 10\n"
     ]
    }
   ],
   "source": [
    "# Solution of Question 4\n",
    "\n",
    "num=int(input(\"enter a number : \"))\n",
    "\n",
    "j=0\n",
    "\n",
    "while num>10 and num%3==0:\n",
    "        j=j+1\n",
    "        num=num/3\n",
    "        \n",
    "        \n",
    "    \n",
    "\n",
    "print(f\" The given number is divisble by 3 ---- {j} times before it is less than 10\")"
   ]
  },
  {
   "cell_type": "code",
   "execution_count": null,
   "id": "8499cbd4",
   "metadata": {},
   "outputs": [],
   "source": []
  },
  {
   "cell_type": "code",
   "execution_count": null,
   "id": "bea2bd0d",
   "metadata": {},
   "outputs": [],
   "source": []
  },
  {
   "cell_type": "code",
   "execution_count": null,
   "id": "59f1dd17",
   "metadata": {},
   "outputs": [],
   "source": [
    "# Solution of Question 5"
   ]
  },
  {
   "cell_type": "markdown",
   "id": "e7d24801",
   "metadata": {},
   "source": [
    "We use while loop when we want certain condition to be true and the number of itreations don't<br>\n",
    "matter. The loop will run n number of time unless the conditon is met.\n",
    "\n",
    "for example we have asked user to give their age and set a condition that age should'nt be<br> negative and the loop will run n times unless user give postitve input\n"
   ]
  },
  {
   "cell_type": "code",
   "execution_count": 42,
   "id": "9f732d0f",
   "metadata": {},
   "outputs": [
    {
     "name": "stdout",
     "output_type": "stream",
     "text": [
      "Enter your age: -23\n",
      "Age can't be negative\n",
      "Enter your age: -2\n",
      "Age can't be negative\n",
      "Enter your age: -12\n",
      "Age can't be negative\n",
      "Enter your age: -43\n",
      "Age can't be negative\n",
      "Enter your age: -56\n",
      "Age can't be negative\n",
      "Enter your age: 21\n",
      "your age is:  21\n"
     ]
    }
   ],
   "source": [
    "age=int(input(\"Enter your age: \"))\n",
    "\n",
    "while age<0:\n",
    "    print(\"Age can't be negative\")\n",
    "    age=int(input(\"Enter your age: \"))\n",
    "    \n",
    "print(\"your age is: \",age)"
   ]
  },
  {
   "cell_type": "code",
   "execution_count": null,
   "id": "6769c215",
   "metadata": {},
   "outputs": [],
   "source": []
  },
  {
   "cell_type": "code",
   "execution_count": null,
   "id": "064c3162",
   "metadata": {},
   "outputs": [],
   "source": [
    "# solution of Question 6"
   ]
  },
  {
   "cell_type": "code",
   "execution_count": 1,
   "id": "d9f0e229",
   "metadata": {},
   "outputs": [
    {
     "name": "stdout",
     "output_type": "stream",
     "text": [
      "* \n",
      "* * \n",
      "* * * \n",
      "* * * * \n",
      "* * * * * \n"
     ]
    }
   ],
   "source": [
    "i=1\n",
    "while i<=5:\n",
    "    j=1\n",
    "    while j<=i:\n",
    "        print(\"*\",end=\" \")\n",
    "        j=j+1\n",
    "    print()\n",
    "    i=i+1"
   ]
  },
  {
   "cell_type": "code",
   "execution_count": 2,
   "id": "8792977e",
   "metadata": {},
   "outputs": [
    {
     "name": "stdout",
     "output_type": "stream",
     "text": [
      "* * * * * \n",
      "* * * * \n",
      "* * * \n",
      "* * \n",
      "* \n"
     ]
    }
   ],
   "source": [
    "i=1\n",
    "\n",
    "while i<=5:\n",
    "    j=0\n",
    "    while j<=5-i:\n",
    "        print(\"*\",end=\" \")\n",
    "        j+=1\n",
    "    print()\n",
    "    i+=1"
   ]
  },
  {
   "cell_type": "code",
   "execution_count": 3,
   "id": "71f3d655",
   "metadata": {},
   "outputs": [
    {
     "name": "stdout",
     "output_type": "stream",
     "text": [
      "          * \n",
      "        * * * \n",
      "      * * * * * \n",
      "    * * * * * * * \n",
      "  * * * * * * * * * \n"
     ]
    }
   ],
   "source": [
    "i=1\n",
    "\n",
    "while i<=5:\n",
    "    j=0\n",
    "    while j<=5-i:\n",
    "        print(\" \",end=\" \")\n",
    "        j+=1\n",
    "    \n",
    "    \n",
    "    k=1\n",
    "    while k<=i:\n",
    "        print(\"*\",end=\" \")\n",
    "        k+=1\n",
    "        \n",
    "    l=0\n",
    "    while l<i-1:\n",
    "        print(\"*\",end=\" \")\n",
    "        l+=1\n",
    "    print()\n",
    "        \n",
    "    i+=1"
   ]
  },
  {
   "cell_type": "code",
   "execution_count": null,
   "id": "8a329331",
   "metadata": {},
   "outputs": [],
   "source": []
  },
  {
   "cell_type": "code",
   "execution_count": null,
   "id": "ffacd98d",
   "metadata": {},
   "outputs": [],
   "source": []
  },
  {
   "cell_type": "code",
   "execution_count": 6,
   "id": "86a133af",
   "metadata": {},
   "outputs": [
    {
     "name": "stdout",
     "output_type": "stream",
     "text": [
      "10\n",
      "9\n",
      "8\n",
      "7\n",
      "6\n",
      "5\n",
      "4\n",
      "3\n",
      "2\n",
      "1\n"
     ]
    }
   ],
   "source": [
    "# solution fo Question 7\n",
    "\n",
    "i=10\n",
    "\n",
    "while i>=1:\n",
    "    print(i)\n",
    "    i-=1"
   ]
  },
  {
   "cell_type": "code",
   "execution_count": 7,
   "id": "3ddeeac5",
   "metadata": {},
   "outputs": [
    {
     "name": "stdout",
     "output_type": "stream",
     "text": [
      "10\n",
      "9\n",
      "8\n",
      "7\n",
      "6\n",
      "5\n",
      "4\n",
      "3\n",
      "2\n",
      "1\n"
     ]
    }
   ],
   "source": [
    "# solution fo Question 8\n",
    "\n",
    "i=10\n",
    "\n",
    "while i>=1:\n",
    "    print(i)\n",
    "    i-=1"
   ]
  },
  {
   "cell_type": "code",
   "execution_count": null,
   "id": "bc27a313",
   "metadata": {},
   "outputs": [],
   "source": []
  }
 ],
 "metadata": {
  "kernelspec": {
   "display_name": "Python 3 (ipykernel)",
   "language": "python",
   "name": "python3"
  },
  "language_info": {
   "codemirror_mode": {
    "name": "ipython",
    "version": 3
   },
   "file_extension": ".py",
   "mimetype": "text/x-python",
   "name": "python",
   "nbconvert_exporter": "python",
   "pygments_lexer": "ipython3",
   "version": "3.8.10"
  }
 },
 "nbformat": 4,
 "nbformat_minor": 5
}
