{
 "cells": [
  {
   "cell_type": "markdown",
   "id": "eec978e2",
   "metadata": {},
   "source": [
    "# QUESTION 1(SOLUTION)"
   ]
  },
  {
   "cell_type": "code",
   "execution_count": 52,
   "id": "9d10ce15",
   "metadata": {},
   "outputs": [],
   "source": [
    "def password_check(password):\n",
    "    upper = 0\n",
    "    lower = 0\n",
    "    special_char = ['~', '`', '!', '@', '#', '$', '%', '^', '&', '*']\n",
    "    nos=['1','2','3','4','5','6','7','8','9','0']\n",
    "    num = 0\n",
    "    char = 0\n",
    "\n",
    "    for i in password:\n",
    "        if i in special_char:\n",
    "            char+=1\n",
    "        elif i in nos:\n",
    "            num+=1\n",
    "        elif i==i.upper():\n",
    "            upper+=1\n",
    "        elif i==i.lower():\n",
    "            lower+=1\n",
    "\n",
    "\n",
    "\n",
    "\n",
    "\n",
    "    if num >= 1 and upper >= 2 and lower >= 2 and char >= 3 and len(password) == 10:\n",
    "        result = \"Valid Password\"\n",
    "    else:\n",
    "        result = \"Invalid Password\"\n",
    "\n",
    "    return result\n",
    "\n",
    "\n",
    "\n",
    "            \n",
    "        \n",
    "        \n",
    "            \n",
    "    "
   ]
  },
  {
   "cell_type": "code",
   "execution_count": 53,
   "id": "eb5d7a1b",
   "metadata": {},
   "outputs": [],
   "source": [
    "password='@#$1ASDbcs'"
   ]
  },
  {
   "cell_type": "code",
   "execution_count": 54,
   "id": "1125188f",
   "metadata": {},
   "outputs": [
    {
     "data": {
      "text/plain": [
       "'Valid Password'"
      ]
     },
     "execution_count": 54,
     "metadata": {},
     "output_type": "execute_result"
    }
   ],
   "source": [
    "password_check(password)"
   ]
  },
  {
   "cell_type": "code",
   "execution_count": 55,
   "id": "eced62f5",
   "metadata": {},
   "outputs": [
    {
     "name": "stdout",
     "output_type": "stream",
     "text": [
      "Invalid Password\n"
     ]
    }
   ],
   "source": [
    "password='@A$12ASDad'\n",
    "print(password_check(password))"
   ]
  },
  {
   "cell_type": "code",
   "execution_count": null,
   "id": "540a5f66",
   "metadata": {},
   "outputs": [],
   "source": []
  },
  {
   "cell_type": "code",
   "execution_count": null,
   "id": "6e8e621c",
   "metadata": {},
   "outputs": [],
   "source": []
  },
  {
   "cell_type": "code",
   "execution_count": null,
   "id": "b361c488",
   "metadata": {},
   "outputs": [],
   "source": []
  },
  {
   "cell_type": "markdown",
   "id": "eb54619f",
   "metadata": {},
   "source": [
    "# QUESTION 2(SOLUTION)"
   ]
  },
  {
   "cell_type": "code",
   "execution_count": null,
   "id": "15e0ee1e",
   "metadata": {},
   "outputs": [],
   "source": []
  },
  {
   "cell_type": "code",
   "execution_count": null,
   "id": "be7cba68",
   "metadata": {},
   "outputs": [],
   "source": []
  },
  {
   "cell_type": "code",
   "execution_count": 64,
   "id": "38cc1f16",
   "metadata": {},
   "outputs": [
    {
     "name": "stdout",
     "output_type": "stream",
     "text": [
      "Enter string: ashish\n",
      "Enter required character: i\n"
     ]
    },
    {
     "data": {
      "text/plain": [
       "True"
      ]
     },
     "execution_count": 64,
     "metadata": {},
     "output_type": "execute_result"
    }
   ],
   "source": [
    "s=input(\"Enter string: \")\n",
    "r=input(\"Enter required character: \")\n",
    "\n",
    "check=lambda a,b: True if a.lower() in b.lower() else False\n",
    "\n",
    "check(r,s)"
   ]
  },
  {
   "cell_type": "code",
   "execution_count": null,
   "id": "1e203261",
   "metadata": {},
   "outputs": [],
   "source": []
  },
  {
   "cell_type": "code",
   "execution_count": null,
   "id": "4c3a2041",
   "metadata": {},
   "outputs": [],
   "source": []
  },
  {
   "cell_type": "code",
   "execution_count": 3,
   "id": "79b2ace4",
   "metadata": {},
   "outputs": [
    {
     "name": "stdout",
     "output_type": "stream",
     "text": [
      "Enter string: 12.43\n",
      "This is a numeric string\n"
     ]
    }
   ],
   "source": [
    "\n",
    "s=input(\"Enter string: \")\n",
    "\n",
    "check=lambda a:a.replace('.','',1).isdigit()\n",
    "\n",
    "if check(s)==True:\n",
    "    print (\"This is a numeric string\")\n",
    "else:\n",
    "    print (\"This is not a numeric string\")\n",
    "    \n",
    "    \n",
    "    \n",
    "\n",
    "\n",
    "    \n",
    "\n"
   ]
  },
  {
   "cell_type": "code",
   "execution_count": null,
   "id": "2aad68b1",
   "metadata": {},
   "outputs": [],
   "source": []
  },
  {
   "cell_type": "code",
   "execution_count": 4,
   "id": "ae5010d4",
   "metadata": {},
   "outputs": [],
   "source": [
    "fruits=[('mango',99),('orange',80),('grapes',1000)]"
   ]
  },
  {
   "cell_type": "code",
   "execution_count": 5,
   "id": "018b963b",
   "metadata": {},
   "outputs": [],
   "source": [
    "sorted_fruits=sorted(fruits,key=lambda x:x[1])"
   ]
  },
  {
   "cell_type": "code",
   "execution_count": 6,
   "id": "549716b9",
   "metadata": {},
   "outputs": [
    {
     "data": {
      "text/plain": [
       "[('orange', 80), ('mango', 99), ('grapes', 1000)]"
      ]
     },
     "execution_count": 6,
     "metadata": {},
     "output_type": "execute_result"
    }
   ],
   "source": [
    "sorted_fruits"
   ]
  },
  {
   "cell_type": "code",
   "execution_count": null,
   "id": "05fcf054",
   "metadata": {},
   "outputs": [],
   "source": []
  },
  {
   "cell_type": "code",
   "execution_count": null,
   "id": "be5fa1c6",
   "metadata": {},
   "outputs": [],
   "source": []
  },
  {
   "cell_type": "code",
   "execution_count": 10,
   "id": "215d7abe",
   "metadata": {},
   "outputs": [],
   "source": [
    "num=[i**2 for i in range(1,11) ]"
   ]
  },
  {
   "cell_type": "code",
   "execution_count": 11,
   "id": "ef40651b",
   "metadata": {},
   "outputs": [
    {
     "data": {
      "text/plain": [
       "[1, 4, 9, 16, 25, 36, 49, 64, 81, 100]"
      ]
     },
     "execution_count": 11,
     "metadata": {},
     "output_type": "execute_result"
    }
   ],
   "source": [
    "num"
   ]
  },
  {
   "cell_type": "code",
   "execution_count": null,
   "id": "54420409",
   "metadata": {},
   "outputs": [],
   "source": []
  },
  {
   "cell_type": "code",
   "execution_count": null,
   "id": "70f24c26",
   "metadata": {},
   "outputs": [],
   "source": []
  },
  {
   "cell_type": "code",
   "execution_count": 12,
   "id": "cf44973a",
   "metadata": {},
   "outputs": [],
   "source": [
    "cuberoot=[i**(1/3) for i in range (1,11)]"
   ]
  },
  {
   "cell_type": "code",
   "execution_count": 13,
   "id": "bf95afac",
   "metadata": {},
   "outputs": [
    {
     "data": {
      "text/plain": [
       "[1.0,\n",
       " 1.2599210498948732,\n",
       " 1.4422495703074083,\n",
       " 1.5874010519681994,\n",
       " 1.7099759466766968,\n",
       " 1.8171205928321397,\n",
       " 1.912931182772389,\n",
       " 2.0,\n",
       " 2.080083823051904,\n",
       " 2.154434690031884]"
      ]
     },
     "execution_count": 13,
     "metadata": {},
     "output_type": "execute_result"
    }
   ],
   "source": [
    "cuberoot"
   ]
  },
  {
   "cell_type": "code",
   "execution_count": null,
   "id": "b9394e7f",
   "metadata": {},
   "outputs": [],
   "source": []
  },
  {
   "cell_type": "code",
   "execution_count": 22,
   "id": "ae2694fc",
   "metadata": {},
   "outputs": [
    {
     "name": "stdout",
     "output_type": "stream",
     "text": [
      "enter a number to check if it is even: 12\n"
     ]
    },
    {
     "data": {
      "text/plain": [
       "True"
      ]
     },
     "execution_count": 22,
     "metadata": {},
     "output_type": "execute_result"
    }
   ],
   "source": [
    "v=int(input(\"enter a number to check if it is even: \"))\n",
    "\n",
    "check=lambda v:True if v%2==0 else False\n",
    "\n",
    "\n",
    "check(v)\n"
   ]
  },
  {
   "cell_type": "code",
   "execution_count": null,
   "id": "ee41a92d",
   "metadata": {},
   "outputs": [],
   "source": []
  },
  {
   "cell_type": "code",
   "execution_count": null,
   "id": "867516fc",
   "metadata": {},
   "outputs": [],
   "source": []
  },
  {
   "cell_type": "code",
   "execution_count": 23,
   "id": "93266bc4",
   "metadata": {},
   "outputs": [],
   "source": [
    "list_of_nums=[1,2,3,4,5,6,7,8,9,10]"
   ]
  },
  {
   "cell_type": "code",
   "execution_count": 26,
   "id": "55a9f0e8",
   "metadata": {},
   "outputs": [],
   "source": [
    "filtered_list=list(filter(lambda x:x%2!=0,list_of_nums))"
   ]
  },
  {
   "cell_type": "code",
   "execution_count": 27,
   "id": "562118d4",
   "metadata": {},
   "outputs": [
    {
     "data": {
      "text/plain": [
       "[1, 3, 5, 7, 9]"
      ]
     },
     "execution_count": 27,
     "metadata": {},
     "output_type": "execute_result"
    }
   ],
   "source": [
    "filtered_list"
   ]
  },
  {
   "cell_type": "code",
   "execution_count": null,
   "id": "f1cd04ac",
   "metadata": {},
   "outputs": [],
   "source": []
  },
  {
   "cell_type": "code",
   "execution_count": null,
   "id": "dfcf2333",
   "metadata": {},
   "outputs": [],
   "source": []
  },
  {
   "cell_type": "code",
   "execution_count": null,
   "id": "a6ed8866",
   "metadata": {},
   "outputs": [],
   "source": []
  },
  {
   "cell_type": "code",
   "execution_count": 30,
   "id": "59826d67",
   "metadata": {},
   "outputs": [],
   "source": [
    "integers=[1,2,3,4,5,6,-1,-2,-3,-4,-5,0]"
   ]
  },
  {
   "cell_type": "code",
   "execution_count": 44,
   "id": "5a63043a",
   "metadata": {},
   "outputs": [],
   "source": [
    "positive_intergers=list(filter(lambda x: x>=0,integers))\n",
    "negative_integers= list(filter(lambda x: x<0,integers))"
   ]
  },
  {
   "cell_type": "code",
   "execution_count": 46,
   "id": "cd58b228",
   "metadata": {},
   "outputs": [],
   "source": [
    "positive_intergers.sort()"
   ]
  },
  {
   "cell_type": "code",
   "execution_count": 47,
   "id": "defbcf5e",
   "metadata": {},
   "outputs": [],
   "source": [
    "negative_integers.sort()"
   ]
  },
  {
   "cell_type": "code",
   "execution_count": 48,
   "id": "b5facec1",
   "metadata": {},
   "outputs": [
    {
     "data": {
      "text/plain": [
       "[0, 1, 2, 3, 4, 5, 6]"
      ]
     },
     "execution_count": 48,
     "metadata": {},
     "output_type": "execute_result"
    }
   ],
   "source": [
    "positive_intergers"
   ]
  },
  {
   "cell_type": "code",
   "execution_count": 49,
   "id": "5220eaa7",
   "metadata": {},
   "outputs": [
    {
     "data": {
      "text/plain": [
       "[-5, -4, -3, -2, -1]"
      ]
     },
     "execution_count": 49,
     "metadata": {},
     "output_type": "execute_result"
    }
   ],
   "source": [
    "negative_integers"
   ]
  },
  {
   "cell_type": "code",
   "execution_count": null,
   "id": "9ca03943",
   "metadata": {},
   "outputs": [],
   "source": []
  }
 ],
 "metadata": {
  "kernelspec": {
   "display_name": "Python 3 (ipykernel)",
   "language": "python",
   "name": "python3"
  },
  "language_info": {
   "codemirror_mode": {
    "name": "ipython",
    "version": 3
   },
   "file_extension": ".py",
   "mimetype": "text/x-python",
   "name": "python",
   "nbconvert_exporter": "python",
   "pygments_lexer": "ipython3",
   "version": "3.8.10"
  }
 },
 "nbformat": 4,
 "nbformat_minor": 5
}
