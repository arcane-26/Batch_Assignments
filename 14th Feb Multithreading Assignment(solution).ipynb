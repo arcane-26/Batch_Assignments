{
 "cells": [
  {
   "cell_type": "markdown",
   "id": "87908d15",
   "metadata": {},
   "source": [
    " # QUESTION 1(SOLUTION)"
   ]
  },
  {
   "cell_type": "markdown",
   "id": "abfbd50a",
   "metadata": {},
   "source": [
    "Multithreading in Python programming is a well-known technique in which multiple threads in a programm share their data space with the main thread which makes information sharing and communication within threads easy and efficient.Multiple threads may execute individually while sharing their program resources. The use of multithreading is to run multiple tasks and function cells at the same time. 'threading' module is used the handle threads in python"
   ]
  },
  {
   "cell_type": "code",
   "execution_count": null,
   "id": "f591ef6c",
   "metadata": {},
   "outputs": [],
   "source": []
  },
  {
   "cell_type": "markdown",
   "id": "3d5aa47f",
   "metadata": {},
   "source": [
    " # QUESTION 2 (SOLUTION)"
   ]
  },
  {
   "cell_type": "markdown",
   "id": "fa9a8909",
   "metadata": {},
   "source": [
    "threading module is used to have control over the multiple threads that are using the programm reosouses\n",
    "\n",
    "active_count() method is used to get the number of threads of the objects that are active during current process\n",
    "\n",
    "currentThread() method is used to get the reference of the current thread object that is execting\n",
    "\n",
    "enumerate() method is used to get the list of all the active thread objects"
   ]
  },
  {
   "cell_type": "code",
   "execution_count": null,
   "id": "85d187b1",
   "metadata": {},
   "outputs": [],
   "source": []
  },
  {
   "cell_type": "markdown",
   "id": "0bd82152",
   "metadata": {},
   "source": [
    " # QUESTION 3 (SOLUTION)"
   ]
  },
  {
   "cell_type": "markdown",
   "id": "43a9b7a2",
   "metadata": {},
   "source": [
    "run() function specifies the code that will be executed in new thread, when we create the instance of the thread and as an attribute we set target equal to some function, this will initiate run function\n",
    "\n",
    "start() function is use the start the execution of thread object after run function has been called\n",
    "\n",
    "join() fuction waits for the thread object to complete its execution in new thread and then joins that new thread to main thread\n",
    "\n",
    "isAlive() fuction is used to check weather the funtion is still executing or not"
   ]
  },
  {
   "cell_type": "code",
   "execution_count": null,
   "id": "34664a01",
   "metadata": {},
   "outputs": [],
   "source": []
  },
  {
   "cell_type": "code",
   "execution_count": null,
   "id": "3e6c8214",
   "metadata": {},
   "outputs": [],
   "source": []
  },
  {
   "cell_type": "markdown",
   "id": "57613768",
   "metadata": {},
   "source": [
    " # QUESTION 4 (SOLUTION)"
   ]
  },
  {
   "cell_type": "code",
   "execution_count": 10,
   "id": "16db7ff6",
   "metadata": {},
   "outputs": [],
   "source": [
    "import threading\n",
    "import time\n",
    "\n",
    "arr=[2,3,4,5]\n",
    "\n",
    "def square(n):\n",
    "    time.sleep(2)\n",
    "    sq=[]\n",
    "    for i in n:\n",
    "        sq.append(i*i)\n",
    "    print(sq)\n",
    "\n",
    "\n",
    "def cube(n):\n",
    "    cu=[]\n",
    "    for i in n:\n",
    "        cu.append(i*i*i)\n",
    "    print(cu)\n",
    "\n",
    "\n"
   ]
  },
  {
   "cell_type": "code",
   "execution_count": 11,
   "id": "8dc3bd3f",
   "metadata": {},
   "outputs": [
    {
     "name": "stdout",
     "output_type": "stream",
     "text": [
      "[8, 27, 64, 125]\n",
      "[4, 9, 16, 25]\n",
      "Program completed successfully! \n"
     ]
    }
   ],
   "source": [
    "data1=threading.Thread(target=square,args=(arr,))\n",
    "data2=threading.Thread(target=cube,args=(arr,))\n",
    "\n",
    "data1.start()\n",
    "data2.start()\n",
    "\n",
    "data1.join()\n",
    "data2.join()\n",
    "\n",
    "print(\"Program completed successfully! \")"
   ]
  },
  {
   "cell_type": "code",
   "execution_count": null,
   "id": "7e7d57f5",
   "metadata": {},
   "outputs": [],
   "source": []
  },
  {
   "cell_type": "markdown",
   "id": "8eb1b1b5",
   "metadata": {},
   "source": [
    " # QUESTION 5 (SOLUTION)"
   ]
  },
  {
   "cell_type": "markdown",
   "id": "8c50ee23",
   "metadata": {},
   "source": [
    "Advantages\n",
    "\n",
    "* Enhanced performance by decreased development time\n",
    "* Simplified and streamlined program coding\n",
    "* Improvised GUI responsiveness\n",
    "* Simultaneous and parallelized occurrence of tasks\n",
    "* Better use of cache storage by utilization of resources\n",
    "* Decreased cost of maintenance\n",
    "* Better use of CPU resource\n",
    "\n",
    "\n",
    "\n",
    "\n",
    "\n",
    "Disadvantages\n",
    "\n",
    "* Complex debugging and testing processes\n",
    "* Overhead switching of context\n",
    "* Increased potential for deadlock occurrence\n",
    "* Increased difficulty level in writing a program\n",
    "* Unpredictable results"
   ]
  },
  {
   "cell_type": "code",
   "execution_count": null,
   "id": "6b30c845",
   "metadata": {},
   "outputs": [],
   "source": []
  },
  {
   "cell_type": "markdown",
   "id": "443a903c",
   "metadata": {},
   "source": [
    " # QUESTION 6 (SOLUTION)"
   ]
  },
  {
   "cell_type": "markdown",
   "id": "49503b4d",
   "metadata": {},
   "source": [
    "Deadlock occurs when two threads stop their execution and with for each other to release its resourses\n",
    "\n",
    "RaceConditon occurs when two threads want to access shared resources and conflicting operation occurs. When multiple threads are running concurrently there is no order which thread will access or modify the resources"
   ]
  },
  {
   "cell_type": "code",
   "execution_count": null,
   "id": "abab3a96",
   "metadata": {},
   "outputs": [],
   "source": []
  },
  {
   "cell_type": "code",
   "execution_count": null,
   "id": "ec92f5ac",
   "metadata": {},
   "outputs": [],
   "source": []
  }
 ],
 "metadata": {
  "kernelspec": {
   "display_name": "Python 3 (ipykernel)",
   "language": "python",
   "name": "python3"
  },
  "language_info": {
   "codemirror_mode": {
    "name": "ipython",
    "version": 3
   },
   "file_extension": ".py",
   "mimetype": "text/x-python",
   "name": "python",
   "nbconvert_exporter": "python",
   "pygments_lexer": "ipython3",
   "version": "3.8.10"
  }
 },
 "nbformat": 4,
 "nbformat_minor": 5
}
