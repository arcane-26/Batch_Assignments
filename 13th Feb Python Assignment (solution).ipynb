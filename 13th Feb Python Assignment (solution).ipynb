{
 "cells": [
  {
   "cell_type": "markdown",
   "id": "b8c0496f",
   "metadata": {},
   "source": [
    "# QUESTION 1 (SOLUTION)"
   ]
  },
  {
   "cell_type": "markdown",
   "id": "02af4416",
   "metadata": {},
   "source": [
    "while creating custom exception class we inherit builtin exception class because it all the necessary methods and properties to handle exception and inheriting builtin exception will make our custom exception class compatible with other exceptions and will become easier to integrate into existing code"
   ]
  },
  {
   "cell_type": "markdown",
   "id": "ba16abc5",
   "metadata": {},
   "source": [
    "# QUESTION 2 (SOLUTION)"
   ]
  },
  {
   "cell_type": "code",
   "execution_count": 5,
   "id": "fbd6e554",
   "metadata": {},
   "outputs": [
    {
     "name": "stdout",
     "output_type": "stream",
     "text": [
      "Help on class Exception in module builtins:\n",
      "\n",
      "class Exception(BaseException)\n",
      " |  Common base class for all non-exit exceptions.\n",
      " |  \n",
      " |  Method resolution order:\n",
      " |      Exception\n",
      " |      BaseException\n",
      " |      object\n",
      " |  \n",
      " |  Built-in subclasses:\n",
      " |      ArithmeticError\n",
      " |      AssertionError\n",
      " |      AttributeError\n",
      " |      BufferError\n",
      " |      ... and 15 other subclasses\n",
      " |  \n",
      " |  Methods defined here:\n",
      " |  \n",
      " |  __init__(self, /, *args, **kwargs)\n",
      " |      Initialize self.  See help(type(self)) for accurate signature.\n",
      " |  \n",
      " |  ----------------------------------------------------------------------\n",
      " |  Static methods defined here:\n",
      " |  \n",
      " |  __new__(*args, **kwargs) from builtins.type\n",
      " |      Create and return a new object.  See help(type) for accurate signature.\n",
      " |  \n",
      " |  ----------------------------------------------------------------------\n",
      " |  Methods inherited from BaseException:\n",
      " |  \n",
      " |  __delattr__(self, name, /)\n",
      " |      Implement delattr(self, name).\n",
      " |  \n",
      " |  __getattribute__(self, name, /)\n",
      " |      Return getattr(self, name).\n",
      " |  \n",
      " |  __reduce__(...)\n",
      " |      Helper for pickle.\n",
      " |  \n",
      " |  __repr__(self, /)\n",
      " |      Return repr(self).\n",
      " |  \n",
      " |  __setattr__(self, name, value, /)\n",
      " |      Implement setattr(self, name, value).\n",
      " |  \n",
      " |  __setstate__(...)\n",
      " |  \n",
      " |  __str__(self, /)\n",
      " |      Return str(self).\n",
      " |  \n",
      " |  with_traceback(...)\n",
      " |      Exception.with_traceback(tb) --\n",
      " |      set self.__traceback__ to tb and return self.\n",
      " |  \n",
      " |  ----------------------------------------------------------------------\n",
      " |  Data descriptors inherited from BaseException:\n",
      " |  \n",
      " |  __cause__\n",
      " |      exception cause\n",
      " |  \n",
      " |  __context__\n",
      " |      exception context\n",
      " |  \n",
      " |  __dict__\n",
      " |  \n",
      " |  __suppress_context__\n",
      " |  \n",
      " |  __traceback__\n",
      " |  \n",
      " |  args\n",
      "\n"
     ]
    }
   ],
   "source": [
    "help(Exception)"
   ]
  },
  {
   "cell_type": "code",
   "execution_count": null,
   "id": "4827dbca",
   "metadata": {},
   "outputs": [],
   "source": []
  },
  {
   "cell_type": "markdown",
   "id": "eaa3765d",
   "metadata": {},
   "source": [
    "# QUESTION 3 (SOLUTION)"
   ]
  },
  {
   "cell_type": "markdown",
   "id": "2d07c9e4",
   "metadata": {},
   "source": [
    "* ZeroDivisionError\n",
    "* FloatingPointError\n",
    "* OverflowError\n",
    "\n",
    "ZeroDivisionError is raised when an user try to divide an int datatype by zero\n",
    "\n",
    "FloatingPointError is made when the floating point calculation cannot be performed"
   ]
  },
  {
   "cell_type": "code",
   "execution_count": null,
   "id": "4ccdb848",
   "metadata": {},
   "outputs": [],
   "source": []
  },
  {
   "cell_type": "code",
   "execution_count": null,
   "id": "07e6a22b",
   "metadata": {},
   "outputs": [],
   "source": []
  },
  {
   "cell_type": "markdown",
   "id": "47e25905",
   "metadata": {},
   "source": [
    "# QUESTION 4(SOLUTION)"
   ]
  },
  {
   "cell_type": "markdown",
   "id": "aae16343",
   "metadata": {},
   "source": [
    "LookupError class is used when a key or index is not found while mapping a sequence\n",
    "LookupError consist of IndexError and KeyError"
   ]
  },
  {
   "cell_type": "code",
   "execution_count": 1,
   "id": "b5f56f73",
   "metadata": {},
   "outputs": [],
   "source": [
    "# example of IndexError\n",
    "import logging\n",
    "logging.basicConfig(filename='error.log', level=logging.INFO)\n",
    "try:\n",
    "    a=[1,2,3,4]\n",
    "    print(a[7])\n",
    "except IndexError as e:\n",
    "    logging.error(f\"the error is raise due to invalid index '7'--------> {e}\")\n",
    "    \n"
   ]
  },
  {
   "attachments": {
    "image.png": {
     "image/png": "[encoded data removed]"
    }
   },
   "cell_type": "markdown",
   "id": "665cbd05",
   "metadata": {},
   "source": [
    "![image.png](attachment:image.png)"
   ]
  },
  {
   "cell_type": "code",
   "execution_count": null,
   "id": "3ccf2110",
   "metadata": {},
   "outputs": [],
   "source": []
  },
  {
   "cell_type": "code",
   "execution_count": 3,
   "id": "37b197b5",
   "metadata": {},
   "outputs": [],
   "source": [
    "# example of keyerror\n",
    "\n",
    "try:\n",
    "    d={'ashish':'student', 'sudhanshu':'mentor'}\n",
    "    print(d['pwskills'])\n",
    "except KeyError as e:\n",
    "    logging.error(\"The 'pwskills' key is not present in dictonary 'd'------>{}\".format(e))"
   ]
  },
  {
   "attachments": {
    "image.png": {
     "image/png": "[encoded data removed]"
    }
   },
   "cell_type": "markdown",
   "id": "f39246d4",
   "metadata": {},
   "source": [
    "![image.png](attachment:image.png)"
   ]
  },
  {
   "cell_type": "code",
   "execution_count": null,
   "id": "254cf027",
   "metadata": {},
   "outputs": [],
   "source": []
  },
  {
   "cell_type": "markdown",
   "id": "26d12d87",
   "metadata": {},
   "source": [
    "# QUESTION 5 (SOLUTION)"
   ]
  },
  {
   "cell_type": "markdown",
   "id": "388f09ab",
   "metadata": {},
   "source": [
    "ImoprtError is a general Exception which occur when we try to import a invalid moduld which\n",
    "or it may be the case the user mispelled the syntax\n",
    "\n",
    "ModuleNotFound is more specific exception.There are various cause for this error to occur\n",
    "maybe the module is not installed or included in the path or mispelled"
   ]
  },
  {
   "cell_type": "code",
   "execution_count": null,
   "id": "d184c05d",
   "metadata": {},
   "outputs": [],
   "source": []
  },
  {
   "cell_type": "markdown",
   "id": "ec0776ba",
   "metadata": {},
   "source": [
    "# QUESTION 6 (SOLUTION)"
   ]
  },
  {
   "cell_type": "markdown",
   "id": "bdb8145e",
   "metadata": {},
   "source": [
    "* Use of specific Exceptions to handle the error\n",
    "* proper messsage about the mentioning the cause of error\n",
    "* logging of error for future refrences and debugging\n",
    "* avoiding using multiple except block for handling the exception\n",
    "* use of finally block to clean up to release the resources and closing of all the files irrespective of wether exception is handled or not"
   ]
  },
  {
   "cell_type": "code",
   "execution_count": null,
   "id": "968f88f9",
   "metadata": {},
   "outputs": [],
   "source": []
  },
  {
   "cell_type": "code",
   "execution_count": null,
   "id": "1fb29b7a",
   "metadata": {},
   "outputs": [],
   "source": []
  },
  {
   "cell_type": "code",
   "execution_count": null,
   "id": "2c049d7d",
   "metadata": {},
   "outputs": [],
   "source": []
  },
  {
   "cell_type": "code",
   "execution_count": null,
   "id": "f5a1111b",
   "metadata": {},
   "outputs": [],
   "source": []
  },
  {
   "cell_type": "code",
   "execution_count": null,
   "id": "1f087c27",
   "metadata": {},
   "outputs": [],
   "source": []
  },
  {
   "cell_type": "code",
   "execution_count": null,
   "id": "708087aa",
   "metadata": {},
   "outputs": [],
   "source": []
  },
  {
   "cell_type": "code",
   "execution_count": null,
   "id": "70a1fbab",
   "metadata": {},
   "outputs": [],
   "source": []
  },
  {
   "cell_type": "code",
   "execution_count": null,
   "id": "b3709199",
   "metadata": {},
   "outputs": [],
   "source": []
  },
  {
   "cell_type": "code",
   "execution_count": null,
   "id": "2e1f9b99",
   "metadata": {},
   "outputs": [],
   "source": []
  },
  {
   "cell_type": "code",
   "execution_count": null,
   "id": "3a9b3a88",
   "metadata": {},
   "outputs": [],
   "source": []
  },
  {
   "cell_type": "code",
   "execution_count": null,
   "id": "168b5ad0",
   "metadata": {},
   "outputs": [],
   "source": []
  },
  {
   "cell_type": "code",
   "execution_count": null,
   "id": "84a546d5",
   "metadata": {},
   "outputs": [],
   "source": []
  },
  {
   "cell_type": "code",
   "execution_count": null,
   "id": "f8c6690a",
   "metadata": {},
   "outputs": [],
   "source": []
  },
  {
   "cell_type": "code",
   "execution_count": null,
   "id": "f0344609",
   "metadata": {},
   "outputs": [],
   "source": []
  },
  {
   "cell_type": "code",
   "execution_count": null,
   "id": "2a3ce18e",
   "metadata": {},
   "outputs": [],
   "source": []
  },
  {
   "cell_type": "code",
   "execution_count": null,
   "id": "42b83e00",
   "metadata": {},
   "outputs": [],
   "source": []
  },
  {
   "cell_type": "code",
   "execution_count": null,
   "id": "d8317d77",
   "metadata": {},
   "outputs": [],
   "source": []
  },
  {
   "cell_type": "code",
   "execution_count": null,
   "id": "f1e56605",
   "metadata": {},
   "outputs": [],
   "source": []
  },
  {
   "cell_type": "code",
   "execution_count": null,
   "id": "189b3dc6",
   "metadata": {},
   "outputs": [],
   "source": []
  },
  {
   "cell_type": "code",
   "execution_count": null,
   "id": "631eea81",
   "metadata": {},
   "outputs": [],
   "source": []
  },
  {
   "cell_type": "code",
   "execution_count": null,
   "id": "51c15c3e",
   "metadata": {},
   "outputs": [],
   "source": []
  },
  {
   "cell_type": "code",
   "execution_count": null,
   "id": "033d98c2",
   "metadata": {},
   "outputs": [],
   "source": []
  },
  {
   "cell_type": "code",
   "execution_count": null,
   "id": "0cda1a90",
   "metadata": {},
   "outputs": [],
   "source": []
  },
  {
   "cell_type": "code",
   "execution_count": null,
   "id": "2dd742bf",
   "metadata": {},
   "outputs": [],
   "source": []
  },
  {
   "cell_type": "code",
   "execution_count": null,
   "id": "62a82d99",
   "metadata": {},
   "outputs": [],
   "source": []
  }
 ],
 "metadata": {
  "kernelspec": {
   "display_name": "Python 3 (ipykernel)",
   "language": "python",
   "name": "python3"
  },
  "language_info": {
   "codemirror_mode": {
    "name": "ipython",
    "version": 3
   },
   "file_extension": ".py",
   "mimetype": "text/x-python",
   "name": "python",
   "nbconvert_exporter": "python",
   "pygments_lexer": "ipython3",
   "version": "3.8.10"
  }
 },
 "nbformat": 4,
 "nbformat_minor": 5
}
